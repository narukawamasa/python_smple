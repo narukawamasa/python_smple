{
  "cells": [
    {
      "cell_type": "markdown",
      "metadata": {
        "id": "view-in-github",
        "colab_type": "text"
      },
      "source": [
        "<a href=\"https://colab.research.google.com/github/narukawamasa/python_smple/blob/main/machine_learning_editor.ipynb\" target=\"_parent\"><img src=\"https://colab.research.google.com/assets/colab-badge.svg\" alt=\"Open In Colab\"/></a>"
      ]
    },
    {
      "cell_type": "markdown",
      "metadata": {
        "id": "_KLqD89DFZK9"
      },
      "source": [
        "# 機械学習実装"
      ]
    },
    {
      "cell_type": "markdown",
      "metadata": {
        "id": "noDMdwnXFZLH"
      },
      "source": [
        "1. データの特徴について確認します。（6問）\n",
        "    - 各変数のデータ型、行列数、統計量を算出し、今回扱うデータの外観を把握します。\n",
        "2. データを加工する方法について学習します。（11問）\n",
        "    - 各変数をモデルに入れる形に整えます。（特徴量生成フェーズ）\n",
        "3. 特徴量の選別方法について学習します。（11問）\n",
        "    - 各特徴量の詳細な特徴を把握し、目的変数との関連性を確認します。（特徴量評価フェーズ）\n",
        "4. 学習データと検証データに分割することについて学習します。（3問）\n",
        "    - 学習に使用したデータは検証に使用できません。モデリング前の下準備について把握します。\n",
        "5. 決定木モデルについて学習します。（分類）（23問）\n",
        "    - 決定木モデルを参考に機械学習のフローについて理解し、精度を算出することが目的です。\n",
        "6. ロジスティック回帰について学習します。（分類）（8問）\n",
        "    - ロジスティック回帰で精度を算出することが目的です。\n",
        "7. ランダムフォレストについて学習します。（分類、回帰）（16問）\n",
        "    - ランダムフォレストモデルで精度を算出することが目的です。\n",
        "8. Kmeans法について学習します。（クラスタリング）（15問）\n",
        "    - Kmeansで分類し、分類結果を次元削減して2次元で可視化します。"
      ]
    },
    {
      "cell_type": "markdown",
      "metadata": {
        "id": "xr_Px1FxFZLL"
      },
      "source": [
        "### 0. 事前準備"
      ]
    },
    {
      "cell_type": "markdown",
      "metadata": {
        "id": "mc_uEMSQFZLN"
      },
      "source": [
        "#### 0.1  必要なライブラリを読み込んで下さい。"
      ]
    },
    {
      "cell_type": "code",
      "execution_count": 24,
      "metadata": {
        "id": "XBqb146FFZLP"
      },
      "outputs": [],
      "source": [
        "import pandas as pd\n",
        "import numpy as np\n",
        "import matplotlib.pyplot as plt\n",
        "import warnings\n",
        "\n",
        "# Jupyter 上で図を表示するためのコマンド\n",
        "%matplotlib inline\n",
        "\n",
        "# warningを表示させない\n",
        "warnings.simplefilter('ignore')"
      ]
    },
    {
      "cell_type": "markdown",
      "metadata": {
        "id": "iqn6firWFZLc"
      },
      "source": [
        "#### 0.2  訓練データと検証データを分ける関数、精度評価を行う関数を読み込んで下さい。"
      ]
    },
    {
      "cell_type": "code",
      "execution_count": 25,
      "metadata": {
        "id": "xNBkciD5FZLf"
      },
      "outputs": [],
      "source": [
        "# 必要な関数を読み込む\n",
        "from sklearn.model_selection import train_test_split # 訓練データと検証データに分ける関数\n",
        "from sklearn.metrics import confusion_matrix, accuracy_score # 混同行列, 予測正解率を求める関数"
      ]
    },
    {
      "cell_type": "markdown",
      "metadata": {
        "id": "nLwuGxU9FZLg"
      },
      "source": [
        "#### 0.3  今回使用する「タイタニック」データを読み込んで下さい。"
      ]
    },
    {
      "cell_type": "code",
      "execution_count": 26,
      "metadata": {
        "id": "s_BLywt-FZLh"
      },
      "outputs": [],
      "source": [
        "# タイタニックデータを読み込む\n",
        "titanic_data = pd.read_csv(filepath_or_buffer='https://wals.s3-ap-northeast-1.amazonaws.com/curriculum/ai/titanic3.csv',\n",
        "                          sep=',', dtype={'pclass':'str'})"
      ]
    },
    {
      "cell_type": "markdown",
      "metadata": {
        "id": "THHkD2T0FZLi"
      },
      "source": [
        "#### 0.4  今回使用する「タイタニック」データは以下のようなデータになっています。"
      ]
    },
    {
      "cell_type": "markdown",
      "metadata": {
        "id": "7yHDaNAMFZLj"
      },
      "source": [
        "- PassengerID: 　乗客ID\n",
        "- Survived: 　生存結果 (1: 生存, 0: 死亡)　\n",
        "- Pclass: 　乗客の階級、1が一番位が高い\n",
        "- Name: 　乗客の名前\n",
        "- Sex:　 性別\n",
        "- Age: 　年齢\n",
        "- SibSp: 　兄弟、配偶者の数\n",
        "- Parch: 　両親、子供の数\n",
        "- Ticket: 　チケット番号\n",
        "- Fare: 　乗船料金\n",
        "- Cabin: 　部屋番号\n",
        "- Embarked: 　乗船した港　Cherbourg、Queenstown、Southamptonの3種類\n",
        "- boat: 　乗ったボート（生きていた場合）\n",
        "- body: 　身体識別番号\n",
        "- home.dest: 　目的地"
      ]
    },
    {
      "cell_type": "markdown",
      "metadata": {
        "id": "Xj-ZzuFGFZLr"
      },
      "source": [
        "### 1. データの特徴について確認します。（6問）"
      ]
    },
    {
      "cell_type": "markdown",
      "metadata": {
        "id": "ojvnZXtVFZLs"
      },
      "source": [
        "#### 1.1 レコード数を確認してください。"
      ]
    },
    {
      "cell_type": "code",
      "execution_count": 27,
      "metadata": {
        "colab": {
          "base_uri": "https://localhost:8080/"
        },
        "id": "Gm1ECOPoFZLs",
        "outputId": "b41dc273-ba59-44e1-d385-bf8fca3ecd77"
      },
      "outputs": [
        {
          "output_type": "stream",
          "name": "stdout",
          "text": [
            "1309\n"
          ]
        }
      ],
      "source": [
        "print(len(titanic_data))"
      ]
    },
    {
      "cell_type": "markdown",
      "metadata": {
        "id": "_JANHMZFFZLt"
      },
      "source": [
        "#### 1.2 カラムの数を確認してください。"
      ]
    },
    {
      "cell_type": "code",
      "execution_count": 28,
      "metadata": {
        "colab": {
          "base_uri": "https://localhost:8080/"
        },
        "id": "VD9GJv1jFZLt",
        "outputId": "43d993fe-9428-4f39-8b52-16e0ab08ffed"
      },
      "outputs": [
        {
          "output_type": "stream",
          "name": "stdout",
          "text": [
            "14\n"
          ]
        }
      ],
      "source": [
        "print(len(titanic_data.columns))"
      ]
    },
    {
      "cell_type": "markdown",
      "metadata": {
        "id": "V7gEKEJ4FZLu"
      },
      "source": [
        "#### 1.3 上から5行データを確認してください。"
      ]
    },
    {
      "cell_type": "code",
      "execution_count": 29,
      "metadata": {
        "colab": {
          "base_uri": "https://localhost:8080/",
          "height": 206
        },
        "id": "JMOHIdeJFZLu",
        "outputId": "4869cabd-0d54-49ca-ab55-27ff41b35175"
      },
      "outputs": [
        {
          "output_type": "execute_result",
          "data": {
            "text/plain": [
              "  pclass  survived                                             name     sex  \\\n",
              "0      1         1                    Allen, Miss. Elisabeth Walton  female   \n",
              "1      1         1                   Allison, Master. Hudson Trevor    male   \n",
              "2      1         0                     Allison, Miss. Helen Loraine  female   \n",
              "3      1         0             Allison, Mr. Hudson Joshua Creighton    male   \n",
              "4      1         0  Allison, Mrs. Hudson J C (Bessie Waldo Daniels)  female   \n",
              "\n",
              "     age  sibsp  parch  ticket      fare    cabin embarked boat   body  \\\n",
              "0  29.00      0      0   24160  211.3375       B5        S    2    NaN   \n",
              "1   0.92      1      2  113781  151.5500  C22 C26        S   11    NaN   \n",
              "2   2.00      1      2  113781  151.5500  C22 C26        S  NaN    NaN   \n",
              "3  30.00      1      2  113781  151.5500  C22 C26        S  NaN  135.0   \n",
              "4  25.00      1      2  113781  151.5500  C22 C26        S  NaN    NaN   \n",
              "\n",
              "                         home.dest  \n",
              "0                     St Louis, MO  \n",
              "1  Montreal, PQ / Chesterville, ON  \n",
              "2  Montreal, PQ / Chesterville, ON  \n",
              "3  Montreal, PQ / Chesterville, ON  \n",
              "4  Montreal, PQ / Chesterville, ON  "
            ],
            "text/html": [
              "\n",
              "  <div id=\"df-e2fe0bdd-8e0d-4a55-8561-9904ea6395f8\">\n",
              "    <div class=\"colab-df-container\">\n",
              "      <div>\n",
              "<style scoped>\n",
              "    .dataframe tbody tr th:only-of-type {\n",
              "        vertical-align: middle;\n",
              "    }\n",
              "\n",
              "    .dataframe tbody tr th {\n",
              "        vertical-align: top;\n",
              "    }\n",
              "\n",
              "    .dataframe thead th {\n",
              "        text-align: right;\n",
              "    }\n",
              "</style>\n",
              "<table border=\"1\" class=\"dataframe\">\n",
              "  <thead>\n",
              "    <tr style=\"text-align: right;\">\n",
              "      <th></th>\n",
              "      <th>pclass</th>\n",
              "      <th>survived</th>\n",
              "      <th>name</th>\n",
              "      <th>sex</th>\n",
              "      <th>age</th>\n",
              "      <th>sibsp</th>\n",
              "      <th>parch</th>\n",
              "      <th>ticket</th>\n",
              "      <th>fare</th>\n",
              "      <th>cabin</th>\n",
              "      <th>embarked</th>\n",
              "      <th>boat</th>\n",
              "      <th>body</th>\n",
              "      <th>home.dest</th>\n",
              "    </tr>\n",
              "  </thead>\n",
              "  <tbody>\n",
              "    <tr>\n",
              "      <th>0</th>\n",
              "      <td>1</td>\n",
              "      <td>1</td>\n",
              "      <td>Allen, Miss. Elisabeth Walton</td>\n",
              "      <td>female</td>\n",
              "      <td>29.00</td>\n",
              "      <td>0</td>\n",
              "      <td>0</td>\n",
              "      <td>24160</td>\n",
              "      <td>211.3375</td>\n",
              "      <td>B5</td>\n",
              "      <td>S</td>\n",
              "      <td>2</td>\n",
              "      <td>NaN</td>\n",
              "      <td>St Louis, MO</td>\n",
              "    </tr>\n",
              "    <tr>\n",
              "      <th>1</th>\n",
              "      <td>1</td>\n",
              "      <td>1</td>\n",
              "      <td>Allison, Master. Hudson Trevor</td>\n",
              "      <td>male</td>\n",
              "      <td>0.92</td>\n",
              "      <td>1</td>\n",
              "      <td>2</td>\n",
              "      <td>113781</td>\n",
              "      <td>151.5500</td>\n",
              "      <td>C22 C26</td>\n",
              "      <td>S</td>\n",
              "      <td>11</td>\n",
              "      <td>NaN</td>\n",
              "      <td>Montreal, PQ / Chesterville, ON</td>\n",
              "    </tr>\n",
              "    <tr>\n",
              "      <th>2</th>\n",
              "      <td>1</td>\n",
              "      <td>0</td>\n",
              "      <td>Allison, Miss. Helen Loraine</td>\n",
              "      <td>female</td>\n",
              "      <td>2.00</td>\n",
              "      <td>1</td>\n",
              "      <td>2</td>\n",
              "      <td>113781</td>\n",
              "      <td>151.5500</td>\n",
              "      <td>C22 C26</td>\n",
              "      <td>S</td>\n",
              "      <td>NaN</td>\n",
              "      <td>NaN</td>\n",
              "      <td>Montreal, PQ / Chesterville, ON</td>\n",
              "    </tr>\n",
              "    <tr>\n",
              "      <th>3</th>\n",
              "      <td>1</td>\n",
              "      <td>0</td>\n",
              "      <td>Allison, Mr. Hudson Joshua Creighton</td>\n",
              "      <td>male</td>\n",
              "      <td>30.00</td>\n",
              "      <td>1</td>\n",
              "      <td>2</td>\n",
              "      <td>113781</td>\n",
              "      <td>151.5500</td>\n",
              "      <td>C22 C26</td>\n",
              "      <td>S</td>\n",
              "      <td>NaN</td>\n",
              "      <td>135.0</td>\n",
              "      <td>Montreal, PQ / Chesterville, ON</td>\n",
              "    </tr>\n",
              "    <tr>\n",
              "      <th>4</th>\n",
              "      <td>1</td>\n",
              "      <td>0</td>\n",
              "      <td>Allison, Mrs. Hudson J C (Bessie Waldo Daniels)</td>\n",
              "      <td>female</td>\n",
              "      <td>25.00</td>\n",
              "      <td>1</td>\n",
              "      <td>2</td>\n",
              "      <td>113781</td>\n",
              "      <td>151.5500</td>\n",
              "      <td>C22 C26</td>\n",
              "      <td>S</td>\n",
              "      <td>NaN</td>\n",
              "      <td>NaN</td>\n",
              "      <td>Montreal, PQ / Chesterville, ON</td>\n",
              "    </tr>\n",
              "  </tbody>\n",
              "</table>\n",
              "</div>\n",
              "      <button class=\"colab-df-convert\" onclick=\"convertToInteractive('df-e2fe0bdd-8e0d-4a55-8561-9904ea6395f8')\"\n",
              "              title=\"Convert this dataframe to an interactive table.\"\n",
              "              style=\"display:none;\">\n",
              "        \n",
              "  <svg xmlns=\"http://www.w3.org/2000/svg\" height=\"24px\"viewBox=\"0 0 24 24\"\n",
              "       width=\"24px\">\n",
              "    <path d=\"M0 0h24v24H0V0z\" fill=\"none\"/>\n",
              "    <path d=\"M18.56 5.44l.94 2.06.94-2.06 2.06-.94-2.06-.94-.94-2.06-.94 2.06-2.06.94zm-11 1L8.5 8.5l.94-2.06 2.06-.94-2.06-.94L8.5 2.5l-.94 2.06-2.06.94zm10 10l.94 2.06.94-2.06 2.06-.94-2.06-.94-.94-2.06-.94 2.06-2.06.94z\"/><path d=\"M17.41 7.96l-1.37-1.37c-.4-.4-.92-.59-1.43-.59-.52 0-1.04.2-1.43.59L10.3 9.45l-7.72 7.72c-.78.78-.78 2.05 0 2.83L4 21.41c.39.39.9.59 1.41.59.51 0 1.02-.2 1.41-.59l7.78-7.78 2.81-2.81c.8-.78.8-2.07 0-2.86zM5.41 20L4 18.59l7.72-7.72 1.47 1.35L5.41 20z\"/>\n",
              "  </svg>\n",
              "      </button>\n",
              "      \n",
              "  <style>\n",
              "    .colab-df-container {\n",
              "      display:flex;\n",
              "      flex-wrap:wrap;\n",
              "      gap: 12px;\n",
              "    }\n",
              "\n",
              "    .colab-df-convert {\n",
              "      background-color: #E8F0FE;\n",
              "      border: none;\n",
              "      border-radius: 50%;\n",
              "      cursor: pointer;\n",
              "      display: none;\n",
              "      fill: #1967D2;\n",
              "      height: 32px;\n",
              "      padding: 0 0 0 0;\n",
              "      width: 32px;\n",
              "    }\n",
              "\n",
              "    .colab-df-convert:hover {\n",
              "      background-color: #E2EBFA;\n",
              "      box-shadow: 0px 1px 2px rgba(60, 64, 67, 0.3), 0px 1px 3px 1px rgba(60, 64, 67, 0.15);\n",
              "      fill: #174EA6;\n",
              "    }\n",
              "\n",
              "    [theme=dark] .colab-df-convert {\n",
              "      background-color: #3B4455;\n",
              "      fill: #D2E3FC;\n",
              "    }\n",
              "\n",
              "    [theme=dark] .colab-df-convert:hover {\n",
              "      background-color: #434B5C;\n",
              "      box-shadow: 0px 1px 3px 1px rgba(0, 0, 0, 0.15);\n",
              "      filter: drop-shadow(0px 1px 2px rgba(0, 0, 0, 0.3));\n",
              "      fill: #FFFFFF;\n",
              "    }\n",
              "  </style>\n",
              "\n",
              "      <script>\n",
              "        const buttonEl =\n",
              "          document.querySelector('#df-e2fe0bdd-8e0d-4a55-8561-9904ea6395f8 button.colab-df-convert');\n",
              "        buttonEl.style.display =\n",
              "          google.colab.kernel.accessAllowed ? 'block' : 'none';\n",
              "\n",
              "        async function convertToInteractive(key) {\n",
              "          const element = document.querySelector('#df-e2fe0bdd-8e0d-4a55-8561-9904ea6395f8');\n",
              "          const dataTable =\n",
              "            await google.colab.kernel.invokeFunction('convertToInteractive',\n",
              "                                                     [key], {});\n",
              "          if (!dataTable) return;\n",
              "\n",
              "          const docLinkHtml = 'Like what you see? Visit the ' +\n",
              "            '<a target=\"_blank\" href=https://colab.research.google.com/notebooks/data_table.ipynb>data table notebook</a>'\n",
              "            + ' to learn more about interactive tables.';\n",
              "          element.innerHTML = '';\n",
              "          dataTable['output_type'] = 'display_data';\n",
              "          await google.colab.output.renderOutput(dataTable, element);\n",
              "          const docLink = document.createElement('div');\n",
              "          docLink.innerHTML = docLinkHtml;\n",
              "          element.appendChild(docLink);\n",
              "        }\n",
              "      </script>\n",
              "    </div>\n",
              "  </div>\n",
              "  "
            ]
          },
          "metadata": {},
          "execution_count": 29
        }
      ],
      "source": [
        "titanic_data.head()"
      ]
    },
    {
      "cell_type": "markdown",
      "metadata": {
        "id": "wEzpaZRIFZLu"
      },
      "source": [
        "#### 1.4 各カラムのデータ型を確認してください。※objectデータは今後数値データに変更する必要があります。"
      ]
    },
    {
      "cell_type": "code",
      "execution_count": 30,
      "metadata": {
        "colab": {
          "base_uri": "https://localhost:8080/"
        },
        "id": "wNuJY9U3FZLv",
        "outputId": "23eae80c-2a2d-471c-9421-a30ad5b6bd0f"
      },
      "outputs": [
        {
          "output_type": "execute_result",
          "data": {
            "text/plain": [
              "pclass        object\n",
              "survived       int64\n",
              "name          object\n",
              "sex           object\n",
              "age          float64\n",
              "sibsp          int64\n",
              "parch          int64\n",
              "ticket        object\n",
              "fare         float64\n",
              "cabin         object\n",
              "embarked      object\n",
              "boat          object\n",
              "body         float64\n",
              "home.dest     object\n",
              "dtype: object"
            ]
          },
          "metadata": {},
          "execution_count": 30
        }
      ],
      "source": [
        "titanic_data.dtypes"
      ]
    },
    {
      "cell_type": "markdown",
      "metadata": {
        "id": "FrXvcY2_FZLv"
      },
      "source": [
        "#### 1.5 各カラムの統計量を算出してください。※object以外"
      ]
    },
    {
      "cell_type": "code",
      "execution_count": 31,
      "metadata": {
        "colab": {
          "base_uri": "https://localhost:8080/",
          "height": 300
        },
        "id": "_p8GfN1WFZLv",
        "outputId": "cdfbb987-5139-4da3-dc92-fb807c9ad0a0"
      },
      "outputs": [
        {
          "output_type": "execute_result",
          "data": {
            "text/plain": [
              "       survived     age   sibsp   parch    fare   body\n",
              "count    1309.0  1046.0  1309.0  1309.0  1308.0  121.0\n",
              "mean        0.0    30.0     0.0     0.0    33.0  161.0\n",
              "std         0.0    14.0     1.0     1.0    52.0   98.0\n",
              "min         0.0     0.0     0.0     0.0     0.0    1.0\n",
              "25%         0.0    21.0     0.0     0.0     8.0   72.0\n",
              "50%         0.0    28.0     0.0     0.0    14.0  155.0\n",
              "75%         1.0    39.0     1.0     0.0    31.0  256.0\n",
              "max         1.0    80.0     8.0     9.0   512.0  328.0"
            ],
            "text/html": [
              "\n",
              "  <div id=\"df-e21b0269-e40a-43d7-8b11-5169b87015d6\">\n",
              "    <div class=\"colab-df-container\">\n",
              "      <div>\n",
              "<style scoped>\n",
              "    .dataframe tbody tr th:only-of-type {\n",
              "        vertical-align: middle;\n",
              "    }\n",
              "\n",
              "    .dataframe tbody tr th {\n",
              "        vertical-align: top;\n",
              "    }\n",
              "\n",
              "    .dataframe thead th {\n",
              "        text-align: right;\n",
              "    }\n",
              "</style>\n",
              "<table border=\"1\" class=\"dataframe\">\n",
              "  <thead>\n",
              "    <tr style=\"text-align: right;\">\n",
              "      <th></th>\n",
              "      <th>survived</th>\n",
              "      <th>age</th>\n",
              "      <th>sibsp</th>\n",
              "      <th>parch</th>\n",
              "      <th>fare</th>\n",
              "      <th>body</th>\n",
              "    </tr>\n",
              "  </thead>\n",
              "  <tbody>\n",
              "    <tr>\n",
              "      <th>count</th>\n",
              "      <td>1309.0</td>\n",
              "      <td>1046.0</td>\n",
              "      <td>1309.0</td>\n",
              "      <td>1309.0</td>\n",
              "      <td>1308.0</td>\n",
              "      <td>121.0</td>\n",
              "    </tr>\n",
              "    <tr>\n",
              "      <th>mean</th>\n",
              "      <td>0.0</td>\n",
              "      <td>30.0</td>\n",
              "      <td>0.0</td>\n",
              "      <td>0.0</td>\n",
              "      <td>33.0</td>\n",
              "      <td>161.0</td>\n",
              "    </tr>\n",
              "    <tr>\n",
              "      <th>std</th>\n",
              "      <td>0.0</td>\n",
              "      <td>14.0</td>\n",
              "      <td>1.0</td>\n",
              "      <td>1.0</td>\n",
              "      <td>52.0</td>\n",
              "      <td>98.0</td>\n",
              "    </tr>\n",
              "    <tr>\n",
              "      <th>min</th>\n",
              "      <td>0.0</td>\n",
              "      <td>0.0</td>\n",
              "      <td>0.0</td>\n",
              "      <td>0.0</td>\n",
              "      <td>0.0</td>\n",
              "      <td>1.0</td>\n",
              "    </tr>\n",
              "    <tr>\n",
              "      <th>25%</th>\n",
              "      <td>0.0</td>\n",
              "      <td>21.0</td>\n",
              "      <td>0.0</td>\n",
              "      <td>0.0</td>\n",
              "      <td>8.0</td>\n",
              "      <td>72.0</td>\n",
              "    </tr>\n",
              "    <tr>\n",
              "      <th>50%</th>\n",
              "      <td>0.0</td>\n",
              "      <td>28.0</td>\n",
              "      <td>0.0</td>\n",
              "      <td>0.0</td>\n",
              "      <td>14.0</td>\n",
              "      <td>155.0</td>\n",
              "    </tr>\n",
              "    <tr>\n",
              "      <th>75%</th>\n",
              "      <td>1.0</td>\n",
              "      <td>39.0</td>\n",
              "      <td>1.0</td>\n",
              "      <td>0.0</td>\n",
              "      <td>31.0</td>\n",
              "      <td>256.0</td>\n",
              "    </tr>\n",
              "    <tr>\n",
              "      <th>max</th>\n",
              "      <td>1.0</td>\n",
              "      <td>80.0</td>\n",
              "      <td>8.0</td>\n",
              "      <td>9.0</td>\n",
              "      <td>512.0</td>\n",
              "      <td>328.0</td>\n",
              "    </tr>\n",
              "  </tbody>\n",
              "</table>\n",
              "</div>\n",
              "      <button class=\"colab-df-convert\" onclick=\"convertToInteractive('df-e21b0269-e40a-43d7-8b11-5169b87015d6')\"\n",
              "              title=\"Convert this dataframe to an interactive table.\"\n",
              "              style=\"display:none;\">\n",
              "        \n",
              "  <svg xmlns=\"http://www.w3.org/2000/svg\" height=\"24px\"viewBox=\"0 0 24 24\"\n",
              "       width=\"24px\">\n",
              "    <path d=\"M0 0h24v24H0V0z\" fill=\"none\"/>\n",
              "    <path d=\"M18.56 5.44l.94 2.06.94-2.06 2.06-.94-2.06-.94-.94-2.06-.94 2.06-2.06.94zm-11 1L8.5 8.5l.94-2.06 2.06-.94-2.06-.94L8.5 2.5l-.94 2.06-2.06.94zm10 10l.94 2.06.94-2.06 2.06-.94-2.06-.94-.94-2.06-.94 2.06-2.06.94z\"/><path d=\"M17.41 7.96l-1.37-1.37c-.4-.4-.92-.59-1.43-.59-.52 0-1.04.2-1.43.59L10.3 9.45l-7.72 7.72c-.78.78-.78 2.05 0 2.83L4 21.41c.39.39.9.59 1.41.59.51 0 1.02-.2 1.41-.59l7.78-7.78 2.81-2.81c.8-.78.8-2.07 0-2.86zM5.41 20L4 18.59l7.72-7.72 1.47 1.35L5.41 20z\"/>\n",
              "  </svg>\n",
              "      </button>\n",
              "      \n",
              "  <style>\n",
              "    .colab-df-container {\n",
              "      display:flex;\n",
              "      flex-wrap:wrap;\n",
              "      gap: 12px;\n",
              "    }\n",
              "\n",
              "    .colab-df-convert {\n",
              "      background-color: #E8F0FE;\n",
              "      border: none;\n",
              "      border-radius: 50%;\n",
              "      cursor: pointer;\n",
              "      display: none;\n",
              "      fill: #1967D2;\n",
              "      height: 32px;\n",
              "      padding: 0 0 0 0;\n",
              "      width: 32px;\n",
              "    }\n",
              "\n",
              "    .colab-df-convert:hover {\n",
              "      background-color: #E2EBFA;\n",
              "      box-shadow: 0px 1px 2px rgba(60, 64, 67, 0.3), 0px 1px 3px 1px rgba(60, 64, 67, 0.15);\n",
              "      fill: #174EA6;\n",
              "    }\n",
              "\n",
              "    [theme=dark] .colab-df-convert {\n",
              "      background-color: #3B4455;\n",
              "      fill: #D2E3FC;\n",
              "    }\n",
              "\n",
              "    [theme=dark] .colab-df-convert:hover {\n",
              "      background-color: #434B5C;\n",
              "      box-shadow: 0px 1px 3px 1px rgba(0, 0, 0, 0.15);\n",
              "      filter: drop-shadow(0px 1px 2px rgba(0, 0, 0, 0.3));\n",
              "      fill: #FFFFFF;\n",
              "    }\n",
              "  </style>\n",
              "\n",
              "      <script>\n",
              "        const buttonEl =\n",
              "          document.querySelector('#df-e21b0269-e40a-43d7-8b11-5169b87015d6 button.colab-df-convert');\n",
              "        buttonEl.style.display =\n",
              "          google.colab.kernel.accessAllowed ? 'block' : 'none';\n",
              "\n",
              "        async function convertToInteractive(key) {\n",
              "          const element = document.querySelector('#df-e21b0269-e40a-43d7-8b11-5169b87015d6');\n",
              "          const dataTable =\n",
              "            await google.colab.kernel.invokeFunction('convertToInteractive',\n",
              "                                                     [key], {});\n",
              "          if (!dataTable) return;\n",
              "\n",
              "          const docLinkHtml = 'Like what you see? Visit the ' +\n",
              "            '<a target=\"_blank\" href=https://colab.research.google.com/notebooks/data_table.ipynb>data table notebook</a>'\n",
              "            + ' to learn more about interactive tables.';\n",
              "          element.innerHTML = '';\n",
              "          dataTable['output_type'] = 'display_data';\n",
              "          await google.colab.output.renderOutput(dataTable, element);\n",
              "          const docLink = document.createElement('div');\n",
              "          docLink.innerHTML = docLinkHtml;\n",
              "          element.appendChild(docLink);\n",
              "        }\n",
              "      </script>\n",
              "    </div>\n",
              "  </div>\n",
              "  "
            ]
          },
          "metadata": {},
          "execution_count": 31
        }
      ],
      "source": [
        "titanic_data.describe().round()"
      ]
    },
    {
      "cell_type": "markdown",
      "metadata": {
        "id": "Hmp8fY5-FZLw"
      },
      "source": [
        "#### 1.6 objectデータが格納されているカラムの情報を出力してください。"
      ]
    },
    {
      "cell_type": "code",
      "execution_count": 32,
      "metadata": {
        "colab": {
          "base_uri": "https://localhost:8080/",
          "height": 175
        },
        "id": "62HtcE_2FZLw",
        "outputId": "cabbaa74-c99d-446a-bf86-2d0bba9151dc"
      },
      "outputs": [
        {
          "output_type": "execute_result",
          "data": {
            "text/plain": [
              "       pclass                  name   sex    ticket        cabin embarked  \\\n",
              "count    1309                  1309  1309      1309          295     1307   \n",
              "unique      3                  1307     2       929          186        3   \n",
              "top         3  Connolly, Miss. Kate  male  CA. 2343  C23 C25 C27        S   \n",
              "freq      709                     2   843        11            6      914   \n",
              "\n",
              "       boat     home.dest  \n",
              "count   486           745  \n",
              "unique   27           369  \n",
              "top      13  New York, NY  \n",
              "freq     39            64  "
            ],
            "text/html": [
              "\n",
              "  <div id=\"df-e01d5a66-6d97-4031-aab5-c8e8ac734490\">\n",
              "    <div class=\"colab-df-container\">\n",
              "      <div>\n",
              "<style scoped>\n",
              "    .dataframe tbody tr th:only-of-type {\n",
              "        vertical-align: middle;\n",
              "    }\n",
              "\n",
              "    .dataframe tbody tr th {\n",
              "        vertical-align: top;\n",
              "    }\n",
              "\n",
              "    .dataframe thead th {\n",
              "        text-align: right;\n",
              "    }\n",
              "</style>\n",
              "<table border=\"1\" class=\"dataframe\">\n",
              "  <thead>\n",
              "    <tr style=\"text-align: right;\">\n",
              "      <th></th>\n",
              "      <th>pclass</th>\n",
              "      <th>name</th>\n",
              "      <th>sex</th>\n",
              "      <th>ticket</th>\n",
              "      <th>cabin</th>\n",
              "      <th>embarked</th>\n",
              "      <th>boat</th>\n",
              "      <th>home.dest</th>\n",
              "    </tr>\n",
              "  </thead>\n",
              "  <tbody>\n",
              "    <tr>\n",
              "      <th>count</th>\n",
              "      <td>1309</td>\n",
              "      <td>1309</td>\n",
              "      <td>1309</td>\n",
              "      <td>1309</td>\n",
              "      <td>295</td>\n",
              "      <td>1307</td>\n",
              "      <td>486</td>\n",
              "      <td>745</td>\n",
              "    </tr>\n",
              "    <tr>\n",
              "      <th>unique</th>\n",
              "      <td>3</td>\n",
              "      <td>1307</td>\n",
              "      <td>2</td>\n",
              "      <td>929</td>\n",
              "      <td>186</td>\n",
              "      <td>3</td>\n",
              "      <td>27</td>\n",
              "      <td>369</td>\n",
              "    </tr>\n",
              "    <tr>\n",
              "      <th>top</th>\n",
              "      <td>3</td>\n",
              "      <td>Connolly, Miss. Kate</td>\n",
              "      <td>male</td>\n",
              "      <td>CA. 2343</td>\n",
              "      <td>C23 C25 C27</td>\n",
              "      <td>S</td>\n",
              "      <td>13</td>\n",
              "      <td>New York, NY</td>\n",
              "    </tr>\n",
              "    <tr>\n",
              "      <th>freq</th>\n",
              "      <td>709</td>\n",
              "      <td>2</td>\n",
              "      <td>843</td>\n",
              "      <td>11</td>\n",
              "      <td>6</td>\n",
              "      <td>914</td>\n",
              "      <td>39</td>\n",
              "      <td>64</td>\n",
              "    </tr>\n",
              "  </tbody>\n",
              "</table>\n",
              "</div>\n",
              "      <button class=\"colab-df-convert\" onclick=\"convertToInteractive('df-e01d5a66-6d97-4031-aab5-c8e8ac734490')\"\n",
              "              title=\"Convert this dataframe to an interactive table.\"\n",
              "              style=\"display:none;\">\n",
              "        \n",
              "  <svg xmlns=\"http://www.w3.org/2000/svg\" height=\"24px\"viewBox=\"0 0 24 24\"\n",
              "       width=\"24px\">\n",
              "    <path d=\"M0 0h24v24H0V0z\" fill=\"none\"/>\n",
              "    <path d=\"M18.56 5.44l.94 2.06.94-2.06 2.06-.94-2.06-.94-.94-2.06-.94 2.06-2.06.94zm-11 1L8.5 8.5l.94-2.06 2.06-.94-2.06-.94L8.5 2.5l-.94 2.06-2.06.94zm10 10l.94 2.06.94-2.06 2.06-.94-2.06-.94-.94-2.06-.94 2.06-2.06.94z\"/><path d=\"M17.41 7.96l-1.37-1.37c-.4-.4-.92-.59-1.43-.59-.52 0-1.04.2-1.43.59L10.3 9.45l-7.72 7.72c-.78.78-.78 2.05 0 2.83L4 21.41c.39.39.9.59 1.41.59.51 0 1.02-.2 1.41-.59l7.78-7.78 2.81-2.81c.8-.78.8-2.07 0-2.86zM5.41 20L4 18.59l7.72-7.72 1.47 1.35L5.41 20z\"/>\n",
              "  </svg>\n",
              "      </button>\n",
              "      \n",
              "  <style>\n",
              "    .colab-df-container {\n",
              "      display:flex;\n",
              "      flex-wrap:wrap;\n",
              "      gap: 12px;\n",
              "    }\n",
              "\n",
              "    .colab-df-convert {\n",
              "      background-color: #E8F0FE;\n",
              "      border: none;\n",
              "      border-radius: 50%;\n",
              "      cursor: pointer;\n",
              "      display: none;\n",
              "      fill: #1967D2;\n",
              "      height: 32px;\n",
              "      padding: 0 0 0 0;\n",
              "      width: 32px;\n",
              "    }\n",
              "\n",
              "    .colab-df-convert:hover {\n",
              "      background-color: #E2EBFA;\n",
              "      box-shadow: 0px 1px 2px rgba(60, 64, 67, 0.3), 0px 1px 3px 1px rgba(60, 64, 67, 0.15);\n",
              "      fill: #174EA6;\n",
              "    }\n",
              "\n",
              "    [theme=dark] .colab-df-convert {\n",
              "      background-color: #3B4455;\n",
              "      fill: #D2E3FC;\n",
              "    }\n",
              "\n",
              "    [theme=dark] .colab-df-convert:hover {\n",
              "      background-color: #434B5C;\n",
              "      box-shadow: 0px 1px 3px 1px rgba(0, 0, 0, 0.15);\n",
              "      filter: drop-shadow(0px 1px 2px rgba(0, 0, 0, 0.3));\n",
              "      fill: #FFFFFF;\n",
              "    }\n",
              "  </style>\n",
              "\n",
              "      <script>\n",
              "        const buttonEl =\n",
              "          document.querySelector('#df-e01d5a66-6d97-4031-aab5-c8e8ac734490 button.colab-df-convert');\n",
              "        buttonEl.style.display =\n",
              "          google.colab.kernel.accessAllowed ? 'block' : 'none';\n",
              "\n",
              "        async function convertToInteractive(key) {\n",
              "          const element = document.querySelector('#df-e01d5a66-6d97-4031-aab5-c8e8ac734490');\n",
              "          const dataTable =\n",
              "            await google.colab.kernel.invokeFunction('convertToInteractive',\n",
              "                                                     [key], {});\n",
              "          if (!dataTable) return;\n",
              "\n",
              "          const docLinkHtml = 'Like what you see? Visit the ' +\n",
              "            '<a target=\"_blank\" href=https://colab.research.google.com/notebooks/data_table.ipynb>data table notebook</a>'\n",
              "            + ' to learn more about interactive tables.';\n",
              "          element.innerHTML = '';\n",
              "          dataTable['output_type'] = 'display_data';\n",
              "          await google.colab.output.renderOutput(dataTable, element);\n",
              "          const docLink = document.createElement('div');\n",
              "          docLink.innerHTML = docLinkHtml;\n",
              "          element.appendChild(docLink);\n",
              "        }\n",
              "      </script>\n",
              "    </div>\n",
              "  </div>\n",
              "  "
            ]
          },
          "metadata": {},
          "execution_count": 32
        }
      ],
      "source": [
        "titanic_data.describe(exclude='number')"
      ]
    },
    {
      "cell_type": "markdown",
      "metadata": {
        "id": "c6fmBhYMFZLw"
      },
      "source": [
        "### 2.データを加工する方法について学習します。（11問）"
      ]
    },
    {
      "cell_type": "markdown",
      "metadata": {
        "id": "AAGC_sBXFZLy"
      },
      "source": [
        "#### 2.1 object型のデータを削除し、削除されていることを確認してください。"
      ]
    },
    {
      "cell_type": "code",
      "execution_count": 33,
      "metadata": {
        "colab": {
          "base_uri": "https://localhost:8080/",
          "height": 206
        },
        "id": "VTcdns6DFZL0",
        "outputId": "4facbb96-16b4-4e8e-8ad6-097cf6abbd4d"
      },
      "outputs": [
        {
          "output_type": "execute_result",
          "data": {
            "text/plain": [
              "   survived    age  sibsp  parch      fare   body\n",
              "0         1  29.00      0      0  211.3375    NaN\n",
              "1         1   0.92      1      2  151.5500    NaN\n",
              "2         0   2.00      1      2  151.5500    NaN\n",
              "3         0  30.00      1      2  151.5500  135.0\n",
              "4         0  25.00      1      2  151.5500    NaN"
            ],
            "text/html": [
              "\n",
              "  <div id=\"df-3230508f-7f68-4f6e-b3c8-3e8a28af425d\">\n",
              "    <div class=\"colab-df-container\">\n",
              "      <div>\n",
              "<style scoped>\n",
              "    .dataframe tbody tr th:only-of-type {\n",
              "        vertical-align: middle;\n",
              "    }\n",
              "\n",
              "    .dataframe tbody tr th {\n",
              "        vertical-align: top;\n",
              "    }\n",
              "\n",
              "    .dataframe thead th {\n",
              "        text-align: right;\n",
              "    }\n",
              "</style>\n",
              "<table border=\"1\" class=\"dataframe\">\n",
              "  <thead>\n",
              "    <tr style=\"text-align: right;\">\n",
              "      <th></th>\n",
              "      <th>survived</th>\n",
              "      <th>age</th>\n",
              "      <th>sibsp</th>\n",
              "      <th>parch</th>\n",
              "      <th>fare</th>\n",
              "      <th>body</th>\n",
              "    </tr>\n",
              "  </thead>\n",
              "  <tbody>\n",
              "    <tr>\n",
              "      <th>0</th>\n",
              "      <td>1</td>\n",
              "      <td>29.00</td>\n",
              "      <td>0</td>\n",
              "      <td>0</td>\n",
              "      <td>211.3375</td>\n",
              "      <td>NaN</td>\n",
              "    </tr>\n",
              "    <tr>\n",
              "      <th>1</th>\n",
              "      <td>1</td>\n",
              "      <td>0.92</td>\n",
              "      <td>1</td>\n",
              "      <td>2</td>\n",
              "      <td>151.5500</td>\n",
              "      <td>NaN</td>\n",
              "    </tr>\n",
              "    <tr>\n",
              "      <th>2</th>\n",
              "      <td>0</td>\n",
              "      <td>2.00</td>\n",
              "      <td>1</td>\n",
              "      <td>2</td>\n",
              "      <td>151.5500</td>\n",
              "      <td>NaN</td>\n",
              "    </tr>\n",
              "    <tr>\n",
              "      <th>3</th>\n",
              "      <td>0</td>\n",
              "      <td>30.00</td>\n",
              "      <td>1</td>\n",
              "      <td>2</td>\n",
              "      <td>151.5500</td>\n",
              "      <td>135.0</td>\n",
              "    </tr>\n",
              "    <tr>\n",
              "      <th>4</th>\n",
              "      <td>0</td>\n",
              "      <td>25.00</td>\n",
              "      <td>1</td>\n",
              "      <td>2</td>\n",
              "      <td>151.5500</td>\n",
              "      <td>NaN</td>\n",
              "    </tr>\n",
              "  </tbody>\n",
              "</table>\n",
              "</div>\n",
              "      <button class=\"colab-df-convert\" onclick=\"convertToInteractive('df-3230508f-7f68-4f6e-b3c8-3e8a28af425d')\"\n",
              "              title=\"Convert this dataframe to an interactive table.\"\n",
              "              style=\"display:none;\">\n",
              "        \n",
              "  <svg xmlns=\"http://www.w3.org/2000/svg\" height=\"24px\"viewBox=\"0 0 24 24\"\n",
              "       width=\"24px\">\n",
              "    <path d=\"M0 0h24v24H0V0z\" fill=\"none\"/>\n",
              "    <path d=\"M18.56 5.44l.94 2.06.94-2.06 2.06-.94-2.06-.94-.94-2.06-.94 2.06-2.06.94zm-11 1L8.5 8.5l.94-2.06 2.06-.94-2.06-.94L8.5 2.5l-.94 2.06-2.06.94zm10 10l.94 2.06.94-2.06 2.06-.94-2.06-.94-.94-2.06-.94 2.06-2.06.94z\"/><path d=\"M17.41 7.96l-1.37-1.37c-.4-.4-.92-.59-1.43-.59-.52 0-1.04.2-1.43.59L10.3 9.45l-7.72 7.72c-.78.78-.78 2.05 0 2.83L4 21.41c.39.39.9.59 1.41.59.51 0 1.02-.2 1.41-.59l7.78-7.78 2.81-2.81c.8-.78.8-2.07 0-2.86zM5.41 20L4 18.59l7.72-7.72 1.47 1.35L5.41 20z\"/>\n",
              "  </svg>\n",
              "      </button>\n",
              "      \n",
              "  <style>\n",
              "    .colab-df-container {\n",
              "      display:flex;\n",
              "      flex-wrap:wrap;\n",
              "      gap: 12px;\n",
              "    }\n",
              "\n",
              "    .colab-df-convert {\n",
              "      background-color: #E8F0FE;\n",
              "      border: none;\n",
              "      border-radius: 50%;\n",
              "      cursor: pointer;\n",
              "      display: none;\n",
              "      fill: #1967D2;\n",
              "      height: 32px;\n",
              "      padding: 0 0 0 0;\n",
              "      width: 32px;\n",
              "    }\n",
              "\n",
              "    .colab-df-convert:hover {\n",
              "      background-color: #E2EBFA;\n",
              "      box-shadow: 0px 1px 2px rgba(60, 64, 67, 0.3), 0px 1px 3px 1px rgba(60, 64, 67, 0.15);\n",
              "      fill: #174EA6;\n",
              "    }\n",
              "\n",
              "    [theme=dark] .colab-df-convert {\n",
              "      background-color: #3B4455;\n",
              "      fill: #D2E3FC;\n",
              "    }\n",
              "\n",
              "    [theme=dark] .colab-df-convert:hover {\n",
              "      background-color: #434B5C;\n",
              "      box-shadow: 0px 1px 3px 1px rgba(0, 0, 0, 0.15);\n",
              "      filter: drop-shadow(0px 1px 2px rgba(0, 0, 0, 0.3));\n",
              "      fill: #FFFFFF;\n",
              "    }\n",
              "  </style>\n",
              "\n",
              "      <script>\n",
              "        const buttonEl =\n",
              "          document.querySelector('#df-3230508f-7f68-4f6e-b3c8-3e8a28af425d button.colab-df-convert');\n",
              "        buttonEl.style.display =\n",
              "          google.colab.kernel.accessAllowed ? 'block' : 'none';\n",
              "\n",
              "        async function convertToInteractive(key) {\n",
              "          const element = document.querySelector('#df-3230508f-7f68-4f6e-b3c8-3e8a28af425d');\n",
              "          const dataTable =\n",
              "            await google.colab.kernel.invokeFunction('convertToInteractive',\n",
              "                                                     [key], {});\n",
              "          if (!dataTable) return;\n",
              "\n",
              "          const docLinkHtml = 'Like what you see? Visit the ' +\n",
              "            '<a target=\"_blank\" href=https://colab.research.google.com/notebooks/data_table.ipynb>data table notebook</a>'\n",
              "            + ' to learn more about interactive tables.';\n",
              "          element.innerHTML = '';\n",
              "          dataTable['output_type'] = 'display_data';\n",
              "          await google.colab.output.renderOutput(dataTable, element);\n",
              "          const docLink = document.createElement('div');\n",
              "          docLink.innerHTML = docLinkHtml;\n",
              "          element.appendChild(docLink);\n",
              "        }\n",
              "      </script>\n",
              "    </div>\n",
              "  </div>\n",
              "  "
            ]
          },
          "metadata": {},
          "execution_count": 33
        }
      ],
      "source": [
        "titanic_data_except_object = titanic_data.select_dtypes(['int64','float64'])\n",
        "titanic_data_except_object.head()"
      ]
    },
    {
      "cell_type": "markdown",
      "metadata": {
        "id": "vE7pzcHQFZL1"
      },
      "source": [
        "#### 2.2 各カラムの欠損値数を算出してください。(※object型のデータ除外後)"
      ]
    },
    {
      "cell_type": "code",
      "execution_count": 34,
      "metadata": {
        "colab": {
          "base_uri": "https://localhost:8080/"
        },
        "id": "BdQvK_3KFZL2",
        "outputId": "a5fdf5bd-c6b5-40ff-ff87-8f8ccf9b9a27"
      },
      "outputs": [
        {
          "output_type": "stream",
          "name": "stdout",
          "text": [
            "survived       0\n",
            "age          263\n",
            "sibsp          0\n",
            "parch          0\n",
            "fare           1\n",
            "body        1188\n",
            "dtype: int64\n"
          ]
        }
      ],
      "source": [
        "print(titanic_data_except_object.isnull().sum())"
      ]
    },
    {
      "cell_type": "markdown",
      "metadata": {
        "id": "xNH-Mc53FZL2"
      },
      "source": [
        "#### 2.3 欠損値は補完する必要があります。「age」の分布を確認して下さい。"
      ]
    },
    {
      "cell_type": "code",
      "execution_count": 35,
      "metadata": {
        "colab": {
          "base_uri": "https://localhost:8080/",
          "height": 265
        },
        "id": "IRSesk6oFZL2",
        "outputId": "a8da37b5-6c30-457c-9665-86b686964017"
      },
      "outputs": [
        {
          "output_type": "display_data",
          "data": {
            "text/plain": [
              "<Figure size 432x288 with 1 Axes>"
            ],
            "image/png": "[encoded data removed]"
          },
          "metadata": {
            "needs_background": "light"
          }
        }
      ],
      "source": [
        "plt.hist(titanic_data_except_object['age'])\n",
        "plt.show()"
      ]
    },
    {
      "cell_type": "markdown",
      "metadata": {
        "id": "TF_bgqADFZL3"
      },
      "source": [
        "#### 2.4 分布を確認すると20代が多いようです。欠損値には「age」の平均値を補完してみましょう。"
      ]
    },
    {
      "cell_type": "code",
      "execution_count": 36,
      "metadata": {
        "id": "89cqXd9hFZL3"
      },
      "outputs": [],
      "source": [
        "mean = titanic_data_except_object['age'].mean()\n",
        "titanic_data_except_object.update(titanic_data_except_object['age'].fillna(mean))"
      ]
    },
    {
      "cell_type": "markdown",
      "metadata": {
        "id": "dhAkV7h3FZL3"
      },
      "source": [
        "#### 2.5 「age」に欠損値が無くなったことを確認してください。"
      ]
    },
    {
      "cell_type": "code",
      "execution_count": 37,
      "metadata": {
        "colab": {
          "base_uri": "https://localhost:8080/"
        },
        "id": "_bDuXCEEFZL4",
        "outputId": "52a99a8b-991f-4927-fd24-8bfdf3b5b1f8"
      },
      "outputs": [
        {
          "output_type": "execute_result",
          "data": {
            "text/plain": [
              "0"
            ]
          },
          "metadata": {},
          "execution_count": 37
        }
      ],
      "source": [
        "titanic_data_except_object['age'].isnull().sum()"
      ]
    },
    {
      "cell_type": "markdown",
      "metadata": {
        "id": "NJ0GD0XZFZL4"
      },
      "source": [
        "#### 2.6 bodyの欠損値も補完する必要があります。「body」の分布を確認して下さい。"
      ]
    },
    {
      "cell_type": "code",
      "execution_count": 38,
      "metadata": {
        "colab": {
          "base_uri": "https://localhost:8080/",
          "height": 265
        },
        "id": "GKoMYz-MFZL5",
        "outputId": "d7dd732b-ae78-4696-e534-1d2492d2d001"
      },
      "outputs": [
        {
          "output_type": "display_data",
          "data": {
            "text/plain": [
              "<Figure size 432x288 with 1 Axes>"
            ],
            "image/png": "[encoded data removed]"
          },
          "metadata": {
            "needs_background": "light"
          }
        }
      ],
      "source": [
        "plt.hist(titanic_data_except_object['body'])\n",
        "plt.show()"
      ]
    },
    {
      "cell_type": "markdown",
      "metadata": {
        "id": "TFImOUm7FZL5"
      },
      "source": [
        "#### 2.7 欠損値が非常に多いです。欠損に意味を持たせるために、今存在しない値である「－1」を補完してみましょう。"
      ]
    },
    {
      "cell_type": "code",
      "execution_count": 39,
      "metadata": {
        "id": "4lOl1wfyFZL5"
      },
      "outputs": [],
      "source": [
        "null = -1\n",
        "titanic_data_except_object['body'].fillna(null, inplace=True)"
      ]
    },
    {
      "cell_type": "markdown",
      "metadata": {
        "id": "fy1jzOayFZL5"
      },
      "source": [
        "#### 2.8 bodyに欠損値が無くなったことを確認してください。"
      ]
    },
    {
      "cell_type": "code",
      "execution_count": 40,
      "metadata": {
        "colab": {
          "base_uri": "https://localhost:8080/"
        },
        "id": "aCrO4BXHFZL6",
        "outputId": "e8fce6b0-ed6e-4dcc-a1db-f6c30f1c761b"
      },
      "outputs": [
        {
          "output_type": "execute_result",
          "data": {
            "text/plain": [
              "0"
            ]
          },
          "metadata": {},
          "execution_count": 40
        }
      ],
      "source": [
        "titanic_data_except_object['body'].isnull().sum()"
      ]
    },
    {
      "cell_type": "markdown",
      "metadata": {
        "id": "xvC04FQIFZL6"
      },
      "source": [
        "#### 2.9 fareの欠損値も補完する必要があります。「fare」の分布を確認して下さい。"
      ]
    },
    {
      "cell_type": "code",
      "execution_count": 41,
      "metadata": {
        "colab": {
          "base_uri": "https://localhost:8080/",
          "height": 265
        },
        "id": "NtgSBaDOFZL6",
        "outputId": "b204395c-548e-4a64-ce8f-202f3efb0743"
      },
      "outputs": [
        {
          "output_type": "display_data",
          "data": {
            "text/plain": [
              "<Figure size 432x288 with 1 Axes>"
            ],
            "image/png": "[encoded data removed]"
          },
          "metadata": {
            "needs_background": "light"
          }
        }
      ],
      "source": [
        "plt.hist(titanic_data_except_object['fare'])\n",
        "plt.show()"
      ]
    },
    {
      "cell_type": "markdown",
      "metadata": {
        "id": "2q2jnXKfFZL7"
      },
      "source": [
        "#### 2.10 fareの欠損値は1件です。レコードを削除しても殆ど影響が無いので、削除してしまいましょう。1行減ったことを確認して下さい。"
      ]
    },
    {
      "cell_type": "code",
      "execution_count": 42,
      "metadata": {
        "colab": {
          "base_uri": "https://localhost:8080/"
        },
        "id": "9vkvu1mQFZL8",
        "outputId": "13389e3f-6912-42cc-8347-dc9d2b5c6aee"
      },
      "outputs": [
        {
          "output_type": "execute_result",
          "data": {
            "text/plain": [
              "(1308, 6)"
            ]
          },
          "metadata": {},
          "execution_count": 42
        }
      ],
      "source": [
        "titanic_data_except_object = titanic_data_except_object.dropna()\n",
        "titanic_data_except_object.shape"
      ]
    },
    {
      "cell_type": "markdown",
      "metadata": {
        "id": "D0_PxwPlFZL8"
      },
      "source": [
        "#### 2.11 欠損値が無くなったことを確認して下さい。"
      ]
    },
    {
      "cell_type": "code",
      "execution_count": 45,
      "metadata": {
        "colab": {
          "base_uri": "https://localhost:8080/"
        },
        "id": "6MNnM2tNFZL8",
        "outputId": "c3f47c29-79b4-4a97-a438-dafddaf4286c"
      },
      "outputs": [
        {
          "output_type": "stream",
          "name": "stdout",
          "text": [
            "survived    False\n",
            "age         False\n",
            "sibsp       False\n",
            "parch       False\n",
            "fare        False\n",
            "body        False\n",
            "dtype: bool\n"
          ]
        }
      ],
      "source": [
        "print(titanic_data_except_object.isnull().all())"
      ]
    },
    {
      "cell_type": "markdown",
      "metadata": {
        "id": "3T6KMIgnFZL9"
      },
      "source": [
        "### 3. 特徴量の選別方法について学習します。（11問）"
      ]
    },
    {
      "cell_type": "markdown",
      "metadata": {
        "id": "InIUOeqzFZL9"
      },
      "source": [
        "#### 目的変数と説明変数の関連性の調査を行います。目的変数に対してどういう変数が影響力を持っているか、前もって調査しておくことは大切です。その方法について学んでいきましょう。今回の目的変数は「survived」です。生存：1、死亡：0となります。"
      ]
    },
    {
      "cell_type": "markdown",
      "metadata": {
        "id": "ik-dgrC5FZL9"
      },
      "source": [
        "#### 3.1 「sibsp」のユニーク値毎に、生存割合を算出して下さい。※小数点3桁で表示して下さい。"
      ]
    },
    {
      "cell_type": "code",
      "execution_count": 53,
      "metadata": {
        "colab": {
          "base_uri": "https://localhost:8080/"
        },
        "id": "fJmGwKGpFZL9",
        "outputId": "45203ed2-81c1-4296-a87c-e3fa2d7eadc4"
      },
      "outputs": [
        {
          "output_type": "execute_result",
          "data": {
            "text/plain": [
              "sibsp\n",
              "0    0.347\n",
              "1    0.511\n",
              "2    0.452\n",
              "3    0.300\n",
              "4    0.136\n",
              "5    0.000\n",
              "8    0.000\n",
              "Name: survived, dtype: float64"
            ]
          },
          "metadata": {},
          "execution_count": 53
        }
      ],
      "source": [
        "titanic_data_except_object.groupby('sibsp').mean()['survived'].round(3)"
      ]
    },
    {
      "cell_type": "markdown",
      "metadata": {
        "id": "TcQ9vo0AFZL-"
      },
      "source": [
        "#### 3.2 「parch」のユニーク値毎に、生存割合を算出してください。※小数点3桁で表示して下さい。"
      ]
    },
    {
      "cell_type": "code",
      "execution_count": 54,
      "metadata": {
        "colab": {
          "base_uri": "https://localhost:8080/"
        },
        "id": "VbRxIxuxFZL-",
        "outputId": "1afb8570-2b2f-4c43-f231-aae759617dbf"
      },
      "outputs": [
        {
          "output_type": "execute_result",
          "data": {
            "text/plain": [
              "parch\n",
              "0    0.336\n",
              "1    0.588\n",
              "2    0.504\n",
              "3    0.625\n",
              "4    0.167\n",
              "5    0.167\n",
              "6    0.000\n",
              "9    0.000\n",
              "Name: survived, dtype: float64"
            ]
          },
          "metadata": {},
          "execution_count": 54
        }
      ],
      "source": [
        "titanic_data_except_object.groupby('parch').mean()['survived'].round(3)"
      ]
    },
    {
      "cell_type": "markdown",
      "metadata": {
        "id": "8pzfD0dLFZL-"
      },
      "source": [
        "#### 3.3 「parch」のユニーク値毎に、生存の件数を出力する下記グラフを出力してください。"
      ]
    },
    {
      "cell_type": "code",
      "execution_count": 59,
      "metadata": {
        "colab": {
          "base_uri": "https://localhost:8080/",
          "height": 294
        },
        "id": "5_DXLCc9FZL_",
        "outputId": "c2e05358-e8fb-49be-9296-4ce65baf8f5b"
      },
      "outputs": [
        {
          "output_type": "execute_result",
          "data": {
            "text/plain": [
              "<matplotlib.axes._subplots.AxesSubplot at 0x7fed054bdca0>"
            ]
          },
          "metadata": {},
          "execution_count": 59
        },
        {
          "output_type": "display_data",
          "data": {
            "text/plain": [
              "<Figure size 432x288 with 1 Axes>"
            ],
            "image/png": "[encoded data removed]"
          },
          "metadata": {
            "needs_background": "light"
          }
        }
      ],
      "source": [
        "cross_tab_temp = pd.crosstab(titanic_data_except_object['parch'] , titanic_data_except_object['survived'])\n",
        "cross_tab_temp.plot.bar(stacked=True)"
      ]
    },
    {
      "cell_type": "markdown",
      "metadata": {
        "id": "3VlYuzACFZL_"
      },
      "source": [
        "#### 3.4 「age」はユニーク数が多く、値をグルーピングする必要があります。値を「10」刻みでグループ化し、各グループ毎に生存割合を算出してください。"
      ]
    },
    {
      "cell_type": "code",
      "execution_count": 61,
      "metadata": {
        "colab": {
          "base_uri": "https://localhost:8080/"
        },
        "id": "bFRnElieFZL_",
        "outputId": "45c5a0df-9604-45d6-fec4-adc854c00803"
      },
      "outputs": [
        {
          "output_type": "execute_result",
          "data": {
            "text/plain": [
              "age\n",
              "(0, 10]      0.581\n",
              "(10, 20]     0.395\n",
              "(20, 30]     0.332\n",
              "(30, 40]     0.424\n",
              "(40, 50]     0.394\n",
              "(50, 60]     0.484\n",
              "(60, 70]     0.231\n",
              "(70, 80]     0.333\n",
              "(80, 90]       NaN\n",
              "(90, 100]      NaN\n",
              "Name: survived, dtype: float64"
            ]
          },
          "metadata": {},
          "execution_count": 61
        }
      ],
      "source": [
        "s_cut = pd.cut(titanic_data_except_object['age'],[0,10,20,30,40,50,60,70,80,90,100])\n",
        "titanic_data_except_object.groupby(s_cut).mean()['survived'].round(3)"
      ]
    },
    {
      "cell_type": "markdown",
      "metadata": {
        "id": "B_WYruW2FZL_"
      },
      "source": [
        "#### 3.5「3.4」の生存の件数グラフを出力してください。"
      ]
    },
    {
      "cell_type": "code",
      "execution_count": 63,
      "metadata": {
        "colab": {
          "base_uri": "https://localhost:8080/",
          "height": 327
        },
        "id": "oyamE110FZMA",
        "outputId": "c6658c45-aa8d-40b9-d530-0cc73b745a70"
      },
      "outputs": [
        {
          "output_type": "execute_result",
          "data": {
            "text/plain": [
              "<matplotlib.axes._subplots.AxesSubplot at 0x7fed05366040>"
            ]
          },
          "metadata": {},
          "execution_count": 63
        },
        {
          "output_type": "display_data",
          "data": {
            "text/plain": [
              "<Figure size 432x288 with 1 Axes>"
            ],
            "image/png": "[encoded data removed]"
          },
          "metadata": {
            "needs_background": "light"
          }
        }
      ],
      "source": [
        "a = pd.crosstab(s_cut, titanic_data_except_object['survived'])\n",
        "a.plot.bar(stacked=True)"
      ]
    },
    {
      "cell_type": "markdown",
      "metadata": {
        "id": "J04tQrcJFZMA"
      },
      "source": [
        "#### 3.6 「fare」はユニーク数が多く、値をグルーピングする必要があります。値を昇順にして上から順番に「件数ができるだけ均等になるよう」グループ化を行い、各グループ毎に生存割合を算出してください。※値に重複があるので、完全に均等にする必要はありません。"
      ]
    },
    {
      "cell_type": "code",
      "execution_count": 68,
      "metadata": {
        "colab": {
          "base_uri": "https://localhost:8080/"
        },
        "id": "i_5-yJJfFZMA",
        "outputId": "e1929af4-a50e-4876-917c-44628936bd3b"
      },
      "outputs": [
        {
          "output_type": "execute_result",
          "data": {
            "text/plain": [
              "fare\n",
              "(-0.001, 7.854]      0.258\n",
              "(7.854, 10.5]        0.201\n",
              "(10.5, 21.679]       0.380\n",
              "(21.679, 41.579]     0.458\n",
              "(41.579, 512.329]    0.618\n",
              "Name: survived, dtype: float64"
            ]
          },
          "metadata": {},
          "execution_count": 68
        }
      ],
      "source": [
        "f_cut = pd.qcut(titanic_data_except_object['fare'],5)\n",
        "titanic_data_except_object.groupby(f_cut).mean()['survived'].round(3)"
      ]
    },
    {
      "cell_type": "markdown",
      "metadata": {
        "id": "HTsjNKGPFZMA"
      },
      "source": [
        "#### 3.7「3.6」の生存の件数グラフを出力してください。"
      ]
    },
    {
      "cell_type": "code",
      "execution_count": 69,
      "metadata": {
        "colab": {
          "base_uri": "https://localhost:8080/",
          "height": 378
        },
        "id": "lelKzr66FZMB",
        "outputId": "aa5508cc-a838-4cd1-802e-ffdc84d33cc2"
      },
      "outputs": [
        {
          "output_type": "execute_result",
          "data": {
            "text/plain": [
              "<matplotlib.axes._subplots.AxesSubplot at 0x7fed059e3e80>"
            ]
          },
          "metadata": {},
          "execution_count": 69
        },
        {
          "output_type": "display_data",
          "data": {
            "text/plain": [
              "<Figure size 432x288 with 1 Axes>"
            ],
            "image/png": "[encoded data removed]"
          },
          "metadata": {
            "needs_background": "light"
          }
        }
      ],
      "source": [
        "a = pd.crosstab(f_cut, titanic_data_except_object['survived'])\n",
        "a.plot.bar(stacked=True)"
      ]
    },
    {
      "cell_type": "markdown",
      "metadata": {
        "id": "PzkmmJdSFZMB"
      },
      "source": [
        "#### 3.8 「body」はユニーク数が多く、値をグルーピングする必要があります。最大値と最小値の間を等間隔で5分割してください。"
      ]
    },
    {
      "cell_type": "code",
      "execution_count": 76,
      "metadata": {
        "colab": {
          "base_uri": "https://localhost:8080/"
        },
        "id": "buh5UozrFZMB",
        "outputId": "0149016b-2a9e-42a7-94f3-c611c1194f3b"
      },
      "outputs": [
        {
          "output_type": "execute_result",
          "data": {
            "text/plain": [
              "body\n",
              "(-1.329, 64.8]    0.412\n",
              "(64.8, 130.6]     0.000\n",
              "(130.6, 196.4]    0.000\n",
              "(196.4, 262.2]    0.000\n",
              "(262.2, 328.0]    0.000\n",
              "Name: survived, dtype: float64"
            ]
          },
          "metadata": {},
          "execution_count": 76
        }
      ],
      "source": [
        "b_cut = pd.cut(titanic_data_except_object['body'], 5)\n",
        "titanic_data_except_object.groupby(b_cut).mean()['survived'].round(3)"
      ]
    },
    {
      "cell_type": "markdown",
      "metadata": {
        "id": "oCPlptd3FZMB"
      },
      "source": [
        "#### 3.9「3.8」の生存の件数グラフを出力してください。"
      ]
    },
    {
      "cell_type": "code",
      "execution_count": 77,
      "metadata": {
        "colab": {
          "base_uri": "https://localhost:8080/",
          "height": 359
        },
        "id": "o_m1eYQ5FZMC",
        "outputId": "1631faad-5dce-4887-c3ed-d85293820230"
      },
      "outputs": [
        {
          "output_type": "execute_result",
          "data": {
            "text/plain": [
              "<matplotlib.axes._subplots.AxesSubplot at 0x7fed05eac0a0>"
            ]
          },
          "metadata": {},
          "execution_count": 77
        },
        {
          "output_type": "display_data",
          "data": {
            "text/plain": [
              "<Figure size 432x288 with 1 Axes>"
            ],
            "image/png": "[encoded data removed]"
          },
          "metadata": {
            "needs_background": "light"
          }
        }
      ],
      "source": [
        "a = pd.crosstab(b_cut, titanic_data_except_object['survived'])\n",
        "a.plot.bar(stacked=True)"
      ]
    },
    {
      "cell_type": "markdown",
      "metadata": {
        "id": "J5gjXFOSFZMC"
      },
      "source": [
        "#### 3.10 各変数間の相関係数を算出してください。"
      ]
    },
    {
      "cell_type": "code",
      "execution_count": 78,
      "metadata": {
        "colab": {
          "base_uri": "https://localhost:8080/",
          "height": 237
        },
        "id": "m18XSuFgFZMC",
        "outputId": "07009d24-eccb-4841-f6d2-d7bd2f2f8e99"
      },
      "outputs": [
        {
          "output_type": "execute_result",
          "data": {
            "text/plain": [
              "          survived       age     sibsp     parch      fare      body\n",
              "survived  1.000000 -0.048887 -0.028122  0.082418  0.244265 -0.211151\n",
              "age      -0.048887  1.000000 -0.190304 -0.130355  0.171893  0.136776\n",
              "sibsp    -0.028122 -0.190304  1.000000  0.373485  0.160238 -0.051933\n",
              "parch     0.082418 -0.130355  0.373485  1.000000  0.221539 -0.023011\n",
              "fare      0.244265  0.171893  0.160238  0.221539  1.000000 -0.012274\n",
              "body     -0.211151  0.136776 -0.051933 -0.023011 -0.012274  1.000000"
            ],
            "text/html": [
              "\n",
              "  <div id=\"df-9ec18b9d-a92f-40a4-a33c-8364333bff0d\">\n",
              "    <div class=\"colab-df-container\">\n",
              "      <div>\n",
              "<style scoped>\n",
              "    .dataframe tbody tr th:only-of-type {\n",
              "        vertical-align: middle;\n",
              "    }\n",
              "\n",
              "    .dataframe tbody tr th {\n",
              "        vertical-align: top;\n",
              "    }\n",
              "\n",
              "    .dataframe thead th {\n",
              "        text-align: right;\n",
              "    }\n",
              "</style>\n",
              "<table border=\"1\" class=\"dataframe\">\n",
              "  <thead>\n",
              "    <tr style=\"text-align: right;\">\n",
              "      <th></th>\n",
              "      <th>survived</th>\n",
              "      <th>age</th>\n",
              "      <th>sibsp</th>\n",
              "      <th>parch</th>\n",
              "      <th>fare</th>\n",
              "      <th>body</th>\n",
              "    </tr>\n",
              "  </thead>\n",
              "  <tbody>\n",
              "    <tr>\n",
              "      <th>survived</th>\n",
              "      <td>1.000000</td>\n",
              "      <td>-0.048887</td>\n",
              "      <td>-0.028122</td>\n",
              "      <td>0.082418</td>\n",
              "      <td>0.244265</td>\n",
              "      <td>-0.211151</td>\n",
              "    </tr>\n",
              "    <tr>\n",
              "      <th>age</th>\n",
              "      <td>-0.048887</td>\n",
              "      <td>1.000000</td>\n",
              "      <td>-0.190304</td>\n",
              "      <td>-0.130355</td>\n",
              "      <td>0.171893</td>\n",
              "      <td>0.136776</td>\n",
              "    </tr>\n",
              "    <tr>\n",
              "      <th>sibsp</th>\n",
              "      <td>-0.028122</td>\n",
              "      <td>-0.190304</td>\n",
              "      <td>1.000000</td>\n",
              "      <td>0.373485</td>\n",
              "      <td>0.160238</td>\n",
              "      <td>-0.051933</td>\n",
              "    </tr>\n",
              "    <tr>\n",
              "      <th>parch</th>\n",
              "      <td>0.082418</td>\n",
              "      <td>-0.130355</td>\n",
              "      <td>0.373485</td>\n",
              "      <td>1.000000</td>\n",
              "      <td>0.221539</td>\n",
              "      <td>-0.023011</td>\n",
              "    </tr>\n",
              "    <tr>\n",
              "      <th>fare</th>\n",
              "      <td>0.244265</td>\n",
              "      <td>0.171893</td>\n",
              "      <td>0.160238</td>\n",
              "      <td>0.221539</td>\n",
              "      <td>1.000000</td>\n",
              "      <td>-0.012274</td>\n",
              "    </tr>\n",
              "    <tr>\n",
              "      <th>body</th>\n",
              "      <td>-0.211151</td>\n",
              "      <td>0.136776</td>\n",
              "      <td>-0.051933</td>\n",
              "      <td>-0.023011</td>\n",
              "      <td>-0.012274</td>\n",
              "      <td>1.000000</td>\n",
              "    </tr>\n",
              "  </tbody>\n",
              "</table>\n",
              "</div>\n",
              "      <button class=\"colab-df-convert\" onclick=\"convertToInteractive('df-9ec18b9d-a92f-40a4-a33c-8364333bff0d')\"\n",
              "              title=\"Convert this dataframe to an interactive table.\"\n",
              "              style=\"display:none;\">\n",
              "        \n",
              "  <svg xmlns=\"http://www.w3.org/2000/svg\" height=\"24px\"viewBox=\"0 0 24 24\"\n",
              "       width=\"24px\">\n",
              "    <path d=\"M0 0h24v24H0V0z\" fill=\"none\"/>\n",
              "    <path d=\"M18.56 5.44l.94 2.06.94-2.06 2.06-.94-2.06-.94-.94-2.06-.94 2.06-2.06.94zm-11 1L8.5 8.5l.94-2.06 2.06-.94-2.06-.94L8.5 2.5l-.94 2.06-2.06.94zm10 10l.94 2.06.94-2.06 2.06-.94-2.06-.94-.94-2.06-.94 2.06-2.06.94z\"/><path d=\"M17.41 7.96l-1.37-1.37c-.4-.4-.92-.59-1.43-.59-.52 0-1.04.2-1.43.59L10.3 9.45l-7.72 7.72c-.78.78-.78 2.05 0 2.83L4 21.41c.39.39.9.59 1.41.59.51 0 1.02-.2 1.41-.59l7.78-7.78 2.81-2.81c.8-.78.8-2.07 0-2.86zM5.41 20L4 18.59l7.72-7.72 1.47 1.35L5.41 20z\"/>\n",
              "  </svg>\n",
              "      </button>\n",
              "      \n",
              "  <style>\n",
              "    .colab-df-container {\n",
              "      display:flex;\n",
              "      flex-wrap:wrap;\n",
              "      gap: 12px;\n",
              "    }\n",
              "\n",
              "    .colab-df-convert {\n",
              "      background-color: #E8F0FE;\n",
              "      border: none;\n",
              "      border-radius: 50%;\n",
              "      cursor: pointer;\n",
              "      display: none;\n",
              "      fill: #1967D2;\n",
              "      height: 32px;\n",
              "      padding: 0 0 0 0;\n",
              "      width: 32px;\n",
              "    }\n",
              "\n",
              "    .colab-df-convert:hover {\n",
              "      background-color: #E2EBFA;\n",
              "      box-shadow: 0px 1px 2px rgba(60, 64, 67, 0.3), 0px 1px 3px 1px rgba(60, 64, 67, 0.15);\n",
              "      fill: #174EA6;\n",
              "    }\n",
              "\n",
              "    [theme=dark] .colab-df-convert {\n",
              "      background-color: #3B4455;\n",
              "      fill: #D2E3FC;\n",
              "    }\n",
              "\n",
              "    [theme=dark] .colab-df-convert:hover {\n",
              "      background-color: #434B5C;\n",
              "      box-shadow: 0px 1px 3px 1px rgba(0, 0, 0, 0.15);\n",
              "      filter: drop-shadow(0px 1px 2px rgba(0, 0, 0, 0.3));\n",
              "      fill: #FFFFFF;\n",
              "    }\n",
              "  </style>\n",
              "\n",
              "      <script>\n",
              "        const buttonEl =\n",
              "          document.querySelector('#df-9ec18b9d-a92f-40a4-a33c-8364333bff0d button.colab-df-convert');\n",
              "        buttonEl.style.display =\n",
              "          google.colab.kernel.accessAllowed ? 'block' : 'none';\n",
              "\n",
              "        async function convertToInteractive(key) {\n",
              "          const element = document.querySelector('#df-9ec18b9d-a92f-40a4-a33c-8364333bff0d');\n",
              "          const dataTable =\n",
              "            await google.colab.kernel.invokeFunction('convertToInteractive',\n",
              "                                                     [key], {});\n",
              "          if (!dataTable) return;\n",
              "\n",
              "          const docLinkHtml = 'Like what you see? Visit the ' +\n",
              "            '<a target=\"_blank\" href=https://colab.research.google.com/notebooks/data_table.ipynb>data table notebook</a>'\n",
              "            + ' to learn more about interactive tables.';\n",
              "          element.innerHTML = '';\n",
              "          dataTable['output_type'] = 'display_data';\n",
              "          await google.colab.output.renderOutput(dataTable, element);\n",
              "          const docLink = document.createElement('div');\n",
              "          docLink.innerHTML = docLinkHtml;\n",
              "          element.appendChild(docLink);\n",
              "        }\n",
              "      </script>\n",
              "    </div>\n",
              "  </div>\n",
              "  "
            ]
          },
          "metadata": {},
          "execution_count": 78
        }
      ],
      "source": [
        "titanic_data_except_object.corr()"
      ]
    },
    {
      "cell_type": "markdown",
      "metadata": {
        "id": "w0-PRiU9FZMD"
      },
      "source": [
        "#### 3.11 「3.10」はこのままだと少し見辛いので、ヒートマップを作成してください。"
      ]
    },
    {
      "cell_type": "code",
      "execution_count": 81,
      "metadata": {
        "colab": {
          "base_uri": "https://localhost:8080/",
          "height": 237
        },
        "id": "lScXYN-4FZMD",
        "outputId": "b1c39bc9-51fb-49e1-9493-fb36157c7334"
      },
      "outputs": [
        {
          "output_type": "execute_result",
          "data": {
            "text/plain": [
              "<pandas.io.formats.style.Styler at 0x7fed05e62850>"
            ],
            "text/html": [
              "<style type=\"text/css\">\n",
              "#T_5ac90_row0_col0, #T_5ac90_row1_col1, #T_5ac90_row2_col2, #T_5ac90_row3_col3, #T_5ac90_row4_col4, #T_5ac90_row5_col5 {\n",
              "  background-color: #023858;\n",
              "  color: #f1f1f1;\n",
              "}\n",
              "#T_5ac90_row0_col1 {\n",
              "  background-color: #ede8f3;\n",
              "  color: #000000;\n",
              "}\n",
              "#T_5ac90_row0_col2, #T_5ac90_row1_col0 {\n",
              "  background-color: #eae6f1;\n",
              "  color: #000000;\n",
              "}\n",
              "#T_5ac90_row0_col3 {\n",
              "  background-color: #dedcec;\n",
              "  color: #000000;\n",
              "}\n",
              "#T_5ac90_row0_col4 {\n",
              "  background-color: #d0d1e6;\n",
              "  color: #000000;\n",
              "}\n",
              "#T_5ac90_row0_col5, #T_5ac90_row1_col2, #T_5ac90_row1_col3, #T_5ac90_row2_col1, #T_5ac90_row5_col0, #T_5ac90_row5_col4 {\n",
              "  background-color: #fff7fb;\n",
              "  color: #000000;\n",
              "}\n",
              "#T_5ac90_row1_col4 {\n",
              "  background-color: #e0dded;\n",
              "  color: #000000;\n",
              "}\n",
              "#T_5ac90_row1_col5 {\n",
              "  background-color: #c4cbe3;\n",
              "  color: #000000;\n",
              "}\n",
              "#T_5ac90_row2_col0 {\n",
              "  background-color: #e7e3f0;\n",
              "  color: #000000;\n",
              "}\n",
              "#T_5ac90_row2_col3 {\n",
              "  background-color: #89b1d4;\n",
              "  color: #000000;\n",
              "}\n",
              "#T_5ac90_row2_col4 {\n",
              "  background-color: #e2dfee;\n",
              "  color: #000000;\n",
              "}\n",
              "#T_5ac90_row2_col5 {\n",
              "  background-color: #ebe6f2;\n",
              "  color: #000000;\n",
              "}\n",
              "#T_5ac90_row3_col0 {\n",
              "  background-color: #d2d2e7;\n",
              "  color: #000000;\n",
              "}\n",
              "#T_5ac90_row3_col1 {\n",
              "  background-color: #f8f1f8;\n",
              "  color: #000000;\n",
              "}\n",
              "#T_5ac90_row3_col2 {\n",
              "  background-color: #7eadd1;\n",
              "  color: #f1f1f1;\n",
              "}\n",
              "#T_5ac90_row3_col4 {\n",
              "  background-color: #d4d4e8;\n",
              "  color: #000000;\n",
              "}\n",
              "#T_5ac90_row3_col5 {\n",
              "  background-color: #e6e2ef;\n",
              "  color: #000000;\n",
              "}\n",
              "#T_5ac90_row4_col0 {\n",
              "  background-color: #a5bddb;\n",
              "  color: #000000;\n",
              "}\n",
              "#T_5ac90_row4_col1 {\n",
              "  background-color: #bfc9e1;\n",
              "  color: #000000;\n",
              "}\n",
              "#T_5ac90_row4_col2 {\n",
              "  background-color: #c1cae2;\n",
              "  color: #000000;\n",
              "}\n",
              "#T_5ac90_row4_col3 {\n",
              "  background-color: #bcc7e1;\n",
              "  color: #000000;\n",
              "}\n",
              "#T_5ac90_row4_col5 {\n",
              "  background-color: #e3e0ee;\n",
              "  color: #000000;\n",
              "}\n",
              "#T_5ac90_row5_col1 {\n",
              "  background-color: #c8cde4;\n",
              "  color: #000000;\n",
              "}\n",
              "#T_5ac90_row5_col2 {\n",
              "  background-color: #eee8f3;\n",
              "  color: #000000;\n",
              "}\n",
              "#T_5ac90_row5_col3 {\n",
              "  background-color: #f1ebf4;\n",
              "  color: #000000;\n",
              "}\n",
              "</style>\n",
              "<table id=\"T_5ac90_\" class=\"dataframe\">\n",
              "  <thead>\n",
              "    <tr>\n",
              "      <th class=\"blank level0\" >&nbsp;</th>\n",
              "      <th class=\"col_heading level0 col0\" >survived</th>\n",
              "      <th class=\"col_heading level0 col1\" >age</th>\n",
              "      <th class=\"col_heading level0 col2\" >sibsp</th>\n",
              "      <th class=\"col_heading level0 col3\" >parch</th>\n",
              "      <th class=\"col_heading level0 col4\" >fare</th>\n",
              "      <th class=\"col_heading level0 col5\" >body</th>\n",
              "    </tr>\n",
              "  </thead>\n",
              "  <tbody>\n",
              "    <tr>\n",
              "      <th id=\"T_5ac90_level0_row0\" class=\"row_heading level0 row0\" >survived</th>\n",
              "      <td id=\"T_5ac90_row0_col0\" class=\"data row0 col0\" >1.000000</td>\n",
              "      <td id=\"T_5ac90_row0_col1\" class=\"data row0 col1\" >-0.048887</td>\n",
              "      <td id=\"T_5ac90_row0_col2\" class=\"data row0 col2\" >-0.028122</td>\n",
              "      <td id=\"T_5ac90_row0_col3\" class=\"data row0 col3\" >0.082418</td>\n",
              "      <td id=\"T_5ac90_row0_col4\" class=\"data row0 col4\" >0.244265</td>\n",
              "      <td id=\"T_5ac90_row0_col5\" class=\"data row0 col5\" >-0.211151</td>\n",
              "    </tr>\n",
              "    <tr>\n",
              "      <th id=\"T_5ac90_level0_row1\" class=\"row_heading level0 row1\" >age</th>\n",
              "      <td id=\"T_5ac90_row1_col0\" class=\"data row1 col0\" >-0.048887</td>\n",
              "      <td id=\"T_5ac90_row1_col1\" class=\"data row1 col1\" >1.000000</td>\n",
              "      <td id=\"T_5ac90_row1_col2\" class=\"data row1 col2\" >-0.190304</td>\n",
              "      <td id=\"T_5ac90_row1_col3\" class=\"data row1 col3\" >-0.130355</td>\n",
              "      <td id=\"T_5ac90_row1_col4\" class=\"data row1 col4\" >0.171893</td>\n",
              "      <td id=\"T_5ac90_row1_col5\" class=\"data row1 col5\" >0.136776</td>\n",
              "    </tr>\n",
              "    <tr>\n",
              "      <th id=\"T_5ac90_level0_row2\" class=\"row_heading level0 row2\" >sibsp</th>\n",
              "      <td id=\"T_5ac90_row2_col0\" class=\"data row2 col0\" >-0.028122</td>\n",
              "      <td id=\"T_5ac90_row2_col1\" class=\"data row2 col1\" >-0.190304</td>\n",
              "      <td id=\"T_5ac90_row2_col2\" class=\"data row2 col2\" >1.000000</td>\n",
              "      <td id=\"T_5ac90_row2_col3\" class=\"data row2 col3\" >0.373485</td>\n",
              "      <td id=\"T_5ac90_row2_col4\" class=\"data row2 col4\" >0.160238</td>\n",
              "      <td id=\"T_5ac90_row2_col5\" class=\"data row2 col5\" >-0.051933</td>\n",
              "    </tr>\n",
              "    <tr>\n",
              "      <th id=\"T_5ac90_level0_row3\" class=\"row_heading level0 row3\" >parch</th>\n",
              "      <td id=\"T_5ac90_row3_col0\" class=\"data row3 col0\" >0.082418</td>\n",
              "      <td id=\"T_5ac90_row3_col1\" class=\"data row3 col1\" >-0.130355</td>\n",
              "      <td id=\"T_5ac90_row3_col2\" class=\"data row3 col2\" >0.373485</td>\n",
              "      <td id=\"T_5ac90_row3_col3\" class=\"data row3 col3\" >1.000000</td>\n",
              "      <td id=\"T_5ac90_row3_col4\" class=\"data row3 col4\" >0.221539</td>\n",
              "      <td id=\"T_5ac90_row3_col5\" class=\"data row3 col5\" >-0.023011</td>\n",
              "    </tr>\n",
              "    <tr>\n",
              "      <th id=\"T_5ac90_level0_row4\" class=\"row_heading level0 row4\" >fare</th>\n",
              "      <td id=\"T_5ac90_row4_col0\" class=\"data row4 col0\" >0.244265</td>\n",
              "      <td id=\"T_5ac90_row4_col1\" class=\"data row4 col1\" >0.171893</td>\n",
              "      <td id=\"T_5ac90_row4_col2\" class=\"data row4 col2\" >0.160238</td>\n",
              "      <td id=\"T_5ac90_row4_col3\" class=\"data row4 col3\" >0.221539</td>\n",
              "      <td id=\"T_5ac90_row4_col4\" class=\"data row4 col4\" >1.000000</td>\n",
              "      <td id=\"T_5ac90_row4_col5\" class=\"data row4 col5\" >-0.012274</td>\n",
              "    </tr>\n",
              "    <tr>\n",
              "      <th id=\"T_5ac90_level0_row5\" class=\"row_heading level0 row5\" >body</th>\n",
              "      <td id=\"T_5ac90_row5_col0\" class=\"data row5 col0\" >-0.211151</td>\n",
              "      <td id=\"T_5ac90_row5_col1\" class=\"data row5 col1\" >0.136776</td>\n",
              "      <td id=\"T_5ac90_row5_col2\" class=\"data row5 col2\" >-0.051933</td>\n",
              "      <td id=\"T_5ac90_row5_col3\" class=\"data row5 col3\" >-0.023011</td>\n",
              "      <td id=\"T_5ac90_row5_col4\" class=\"data row5 col4\" >-0.012274</td>\n",
              "      <td id=\"T_5ac90_row5_col5\" class=\"data row5 col5\" >1.000000</td>\n",
              "    </tr>\n",
              "  </tbody>\n",
              "</table>\n"
            ]
          },
          "metadata": {},
          "execution_count": 81
        }
      ],
      "source": [
        "titanic_data_except_object.corr().style.background_gradient()"
      ]
    },
    {
      "cell_type": "markdown",
      "metadata": {
        "id": "aniD4IlZFZMD"
      },
      "source": [
        "### 4. 学習データと検証データに分割する方法を学習します。（3問）"
      ]
    },
    {
      "cell_type": "markdown",
      "metadata": {
        "id": "AhlzY9GSFZMD"
      },
      "source": [
        "#### 先程のフェーズでは、全て数値データに変換し、今回予測する「生存」との関連性を評価しました。今フェーズはモデルの作成の為の最終準備です。未知のデータに対する予測値を算出したいので、学習に使用するデータと検証に使用するデータを分割し、擬似的に未知データを作り出します。"
      ]
    },
    {
      "cell_type": "markdown",
      "metadata": {
        "id": "2SfDX62hFZME"
      },
      "source": [
        "#### 4.1 決定木のライブラリをインポートして下さい。"
      ]
    },
    {
      "cell_type": "code",
      "execution_count": 82,
      "metadata": {
        "id": "ftxFBMFTFZME"
      },
      "outputs": [],
      "source": [
        "from sklearn import tree"
      ]
    },
    {
      "cell_type": "markdown",
      "metadata": {
        "id": "mvKmfEZRFZMI"
      },
      "source": [
        "#### 4.2 説明変数と目的変数を分けて、それぞれ「X」,「y」と言う変数名に格納し、カラム名を確認して下さい。"
      ]
    },
    {
      "cell_type": "code",
      "execution_count": 83,
      "metadata": {
        "colab": {
          "base_uri": "https://localhost:8080/"
        },
        "id": "gHkBtIZWFZMJ",
        "outputId": "679c3939-31cd-4915-dc34-7567ca2a8737"
      },
      "outputs": [
        {
          "output_type": "stream",
          "name": "stdout",
          "text": [
            "(1308, 5)\n",
            "(1308,)\n"
          ]
        }
      ],
      "source": [
        "X = titanic_data_except_object.drop('survived', axis=1)\n",
        "y = titanic_data_except_object['survived']\n",
        "print(X.shape)\n",
        "print(y.shape)"
      ]
    },
    {
      "cell_type": "markdown",
      "metadata": {
        "id": "6jn8x3u7FZMJ"
      },
      "source": [
        "#### 4.3 説明変数、目的変数をそれぞれ学習データと検証データを7:3の割合で作成して下さい。変数名はX_train（説明変数の学習データ）, X_test（説明変数の検証データ）, y_train（目的変数の学習データ）, y_test（目的変数の検証データ）として下さい。その際インデックスのシャッフルはしないようにして、各変数の上5行を確認して下さい。"
      ]
    },
    {
      "cell_type": "code",
      "execution_count": 85,
      "metadata": {
        "colab": {
          "base_uri": "https://localhost:8080/"
        },
        "id": "GRNh-6h1FZMJ",
        "outputId": "17974e6e-b0fe-4942-8539-822b7526d232"
      },
      "outputs": [
        {
          "output_type": "stream",
          "name": "stdout",
          "text": [
            "     age  sibsp  parch      fare   body\n",
            "0  29.00      0      0  211.3375   -1.0\n",
            "1   0.92      1      2  151.5500   -1.0\n",
            "2   2.00      1      2  151.5500   -1.0\n",
            "3  30.00      1      2  151.5500  135.0\n",
            "4  25.00      1      2  151.5500   -1.0\n",
            "           age  sibsp  parch     fare  body\n",
            "915  22.000000      0      0   7.5208  -1.0\n",
            "916   4.000000      0      1  13.4167  -1.0\n",
            "917  39.000000      0      1  13.4167  -1.0\n",
            "918  29.881138      0      0   7.2292  -1.0\n",
            "919  18.500000      0      0   7.2292  58.0\n",
            "0    1\n",
            "1    1\n",
            "2    0\n",
            "3    0\n",
            "4    0\n",
            "Name: survived, dtype: int64\n",
            "915    0\n",
            "916    1\n",
            "917    1\n",
            "918    0\n",
            "919    0\n",
            "Name: survived, dtype: int64\n"
          ]
        }
      ],
      "source": [
        "X_train, X_test, y_train, y_test = train_test_split(X,y,test_size=0.3,shuffle=False)\n",
        "print(X_train.head())\n",
        "print(X_test.head())\n",
        "print(y_train.head())\n",
        "print(y_test.head())"
      ]
    },
    {
      "cell_type": "markdown",
      "metadata": {
        "id": "b-pp3riwFZMK"
      },
      "source": [
        "### 5. モデリング方法について学習します。（23問）"
      ]
    },
    {
      "cell_type": "markdown",
      "metadata": {
        "id": "fY4I4G1uFZMK"
      },
      "source": [
        "#### この章では、決定木モデルを例にして機械学習の一般的なフロー（パラメータチューニング、特徴量の追加、評価指標）を学習します。（モデルを作成するときはrandom_state=0を指定してください。）"
      ]
    },
    {
      "cell_type": "markdown",
      "metadata": {
        "id": "qO0-TKLwFZML"
      },
      "source": [
        "#### 5.1 分類木を読み込んで、decision_treeと言う名前を付け、引数random_stateのみ「0」を指定し、下記のような決定木のパラメータ値を出力してください。※random_stateに数字を入れることで、結果を固定することができます。"
      ]
    },
    {
      "cell_type": "code",
      "execution_count": 86,
      "metadata": {
        "colab": {
          "base_uri": "https://localhost:8080/"
        },
        "id": "lPrtFWuKFZML",
        "outputId": "87f8c06d-aae3-4e91-f81b-da026d50fbca"
      },
      "outputs": [
        {
          "output_type": "execute_result",
          "data": {
            "text/plain": [
              "DecisionTreeClassifier(random_state=0)"
            ]
          },
          "metadata": {},
          "execution_count": 86
        }
      ],
      "source": [
        "decision_tree = tree.DecisionTreeClassifier(random_state=0)\n",
        "decision_tree"
      ]
    },
    {
      "cell_type": "markdown",
      "metadata": {
        "id": "0Mpx37ljFZML"
      },
      "source": [
        "#### 5.2 fit関数を使い、学習データを使用して決定木を作成して下さい。※ここが「学習」と呼ばれる処理になります。"
      ]
    },
    {
      "cell_type": "code",
      "execution_count": 87,
      "metadata": {
        "colab": {
          "base_uri": "https://localhost:8080/"
        },
        "id": "uvX69oGvFZMM",
        "outputId": "69048599-31fc-4521-e263-18fd10db9f9e"
      },
      "outputs": [
        {
          "output_type": "execute_result",
          "data": {
            "text/plain": [
              "DecisionTreeClassifier(random_state=0)"
            ]
          },
          "metadata": {},
          "execution_count": 87
        }
      ],
      "source": [
        "decision_tree = decision_tree.fit(X_train, y_train)\n",
        "decision_tree"
      ]
    },
    {
      "cell_type": "markdown",
      "metadata": {
        "id": "m_NSMGYbFZMM"
      },
      "source": [
        "#### 5.3 「5.2」で決定木は作成できました。作成した決定木を用いて、新規データ（X_test）に対する予測値を出力してください。※ここが「予測」と呼ばれる処理になります。"
      ]
    },
    {
      "cell_type": "code",
      "execution_count": 88,
      "metadata": {
        "colab": {
          "base_uri": "https://localhost:8080/"
        },
        "id": "ZUnQeQd1FZMM",
        "outputId": "995c72e2-70af-4779-f79c-0706308ca967"
      },
      "outputs": [
        {
          "output_type": "execute_result",
          "data": {
            "text/plain": [
              "array([0, 1, 1, 0, 0, 0, 0, 0, 0, 0, 0, 0, 0, 0, 0, 0, 0, 0, 0, 1, 1, 0,\n",
              "       1, 1, 1, 0, 0, 0, 0, 0, 1, 1, 0, 0, 1, 1, 0, 1, 0, 1, 1, 1, 1, 1,\n",
              "       1, 0, 0, 0, 0, 0, 0, 0, 1, 0, 0, 0, 1, 1, 0, 0, 0, 0, 1, 0, 0, 0,\n",
              "       0, 0, 0, 0, 0, 0, 1, 0, 0, 1, 0, 0, 0, 0, 0, 0, 0, 0, 0, 0, 1, 1,\n",
              "       1, 0, 0, 1, 0, 0, 0, 1, 0, 0, 0, 0, 0, 0, 0, 0, 0, 0, 0, 0, 1, 0,\n",
              "       1, 1, 0, 0, 0, 0, 0, 0, 0, 0, 0, 0, 0, 0, 0, 0, 0, 0, 0, 0, 0, 0,\n",
              "       0, 1, 1, 1, 0, 0, 0, 0, 0, 1, 1, 1, 0, 0, 0, 0, 0, 0, 1, 0, 1, 0,\n",
              "       0, 0, 0, 0, 0, 0, 0, 0, 0, 1, 1, 0, 0, 1, 0, 0, 0, 0, 0, 0, 0, 0,\n",
              "       0, 0, 0, 0, 0, 1, 1, 1, 1, 0, 0, 0, 0, 0, 0, 1, 0, 0, 0, 1, 1, 1,\n",
              "       1, 0, 0, 0, 0, 0, 0, 0, 0, 0, 1, 0, 0, 0, 0, 0, 0, 0, 1, 0, 0, 0,\n",
              "       0, 1, 0, 0, 0, 0, 0, 0, 0, 0, 0, 0, 1, 0, 0, 0, 0, 0, 0, 0, 0, 1,\n",
              "       1, 1, 0, 0, 0, 0, 1, 0, 0, 0, 0, 0, 0, 1, 0, 1, 1, 1, 1, 1, 1, 1,\n",
              "       1, 1, 0, 1, 0, 1, 1, 1, 1, 1, 1, 0, 0, 0, 0, 0, 0, 1, 0, 0, 0, 0,\n",
              "       0, 0, 0, 0, 1, 1, 0, 0, 1, 0, 1, 0, 0, 0, 0, 0, 1, 0, 0, 1, 0, 0,\n",
              "       1, 0, 0, 0, 0, 0, 1, 0, 0, 0, 0, 0, 0, 0, 0, 0, 0, 0, 0, 0, 1, 0,\n",
              "       0, 0, 1, 0, 0, 0, 0, 0, 0, 0, 0, 0, 0, 0, 0, 0, 0, 0, 0, 1, 0, 0,\n",
              "       1, 0, 1, 1, 0, 1, 1, 1, 0, 0, 0, 0, 0, 1, 0, 0, 0, 0, 0, 0, 0, 0,\n",
              "       0, 0, 0, 0, 0, 0, 0, 0, 0, 0, 0, 0, 0, 0, 0, 0, 0, 0, 1])"
            ]
          },
          "metadata": {},
          "execution_count": 88
        }
      ],
      "source": [
        "y_pred = decision_tree.predict(X_test)\n",
        "y_pred"
      ]
    },
    {
      "cell_type": "markdown",
      "metadata": {
        "id": "luTfM8cqFZMN"
      },
      "source": [
        "#### 5.4 精度を確認していきましょう。学習データに使用しなかった「目的変数の検証データ（y_test）」を使用して、正解率を算出してください。"
      ]
    },
    {
      "cell_type": "code",
      "execution_count": 89,
      "metadata": {
        "colab": {
          "base_uri": "https://localhost:8080/"
        },
        "id": "UYVtqnaFFZMN",
        "outputId": "c8d117b9-4d23-44aa-d726-3464c8721d6b"
      },
      "outputs": [
        {
          "output_type": "stream",
          "name": "stdout",
          "text": [
            "0.6615776081424937\n"
          ]
        }
      ],
      "source": [
        "print(accuracy_score(y_test, y_pred))"
      ]
    },
    {
      "cell_type": "markdown",
      "metadata": {
        "id": "E6tE0jYIFZMN"
      },
      "source": [
        "#### 5.5 今回の結果の混合行列を出力してください。"
      ]
    },
    {
      "cell_type": "code",
      "execution_count": 94,
      "metadata": {
        "colab": {
          "base_uri": "https://localhost:8080/"
        },
        "id": "gTkStwYGFZMN",
        "outputId": "9f12abc7-422d-4a2b-f898-d8b4754da12a"
      },
      "outputs": [
        {
          "output_type": "execute_result",
          "data": {
            "text/plain": [
              "array([[228,  65],\n",
              "       [ 68,  32]])"
            ]
          },
          "metadata": {},
          "execution_count": 94
        }
      ],
      "source": [
        "from sklearn.metrics import confusion_matrix\n",
        "a = confusion_matrix(y_test, y_pred)\n",
        "a"
      ]
    },
    {
      "cell_type": "markdown",
      "metadata": {
        "id": "S34ozNJCFZMO"
      },
      "source": [
        "#### 5.6 正解率は算出できましたが、まだまだ向上の余地がありそうです。「max_depth」を「4」に設定して正解率を算出し直しましょう。"
      ]
    },
    {
      "cell_type": "code",
      "execution_count": 95,
      "metadata": {
        "colab": {
          "base_uri": "https://localhost:8080/"
        },
        "id": "b-vhevIOFZMO",
        "outputId": "ba5bdee9-2ef4-4040-f5ea-6a04dd9b36f2"
      },
      "outputs": [
        {
          "output_type": "stream",
          "name": "stdout",
          "text": [
            "0.6870229007633588\n"
          ]
        }
      ],
      "source": [
        "decision_tree = tree.DecisionTreeClassifier(max_depth=4,random_state=0)\n",
        "decision_tree = decision_tree.fit(X_train, y_train)\n",
        "y_pred = decision_tree.predict(X_test)\n",
        "print(accuracy_score(y_test, y_pred))"
      ]
    },
    {
      "cell_type": "markdown",
      "metadata": {
        "id": "XdhGEYe6FZMO"
      },
      "source": [
        "#### 5.7 やや正解率が向上したようです。混合行列も確認してみましょう。"
      ]
    },
    {
      "cell_type": "code",
      "execution_count": 96,
      "metadata": {
        "colab": {
          "base_uri": "https://localhost:8080/"
        },
        "id": "vWpLcSFPFZMO",
        "outputId": "a354a640-451f-4d78-b206-ce5869eed1f4"
      },
      "outputs": [
        {
          "output_type": "execute_result",
          "data": {
            "text/plain": [
              "array([[263,  30],\n",
              "       [ 93,   7]])"
            ]
          },
          "metadata": {},
          "execution_count": 96
        }
      ],
      "source": [
        "a = confusion_matrix(y_test, y_pred)\n",
        "a"
      ]
    },
    {
      "cell_type": "markdown",
      "metadata": {
        "id": "IJmG7c-WFZMP"
      },
      "source": [
        "#### 5.8 様々なパラメータを試す余地がありそうです。2～6までの順続きのリストを作成し、「min_samples_split_list」と名前を付けて下さい。"
      ]
    },
    {
      "cell_type": "code",
      "execution_count": 97,
      "metadata": {
        "colab": {
          "base_uri": "https://localhost:8080/"
        },
        "id": "ANgCaWFiFZMQ",
        "outputId": "74abc807-64a5-4053-c05b-e5096dab0f9d"
      },
      "outputs": [
        {
          "output_type": "execute_result",
          "data": {
            "text/plain": [
              "[2, 3, 4, 5, 6]"
            ]
          },
          "metadata": {},
          "execution_count": 97
        }
      ],
      "source": [
        "min_samples_split_list = [i for i in range(2,7)]\n",
        "min_samples_split_list"
      ]
    },
    {
      "cell_type": "markdown",
      "metadata": {
        "id": "_BuX9cxAFZMR"
      },
      "source": [
        "#### 5.9 for文を使用し、「5.8」で作成したリストの要素分、「min_samples_split」を試して下さい。※「min_samples_split」とは、分岐に必要な最小サンプル数のことです。過学習を抑制するために使用されます。"
      ]
    },
    {
      "cell_type": "code",
      "execution_count": 98,
      "metadata": {
        "colab": {
          "base_uri": "https://localhost:8080/"
        },
        "id": "GwK5Kk84FZMR",
        "outputId": "0cc90e42-7043-45ac-c8d8-66caed51984d"
      },
      "outputs": [
        {
          "output_type": "stream",
          "name": "stdout",
          "text": [
            "2 0.6615776081424937\n",
            "3 0.6641221374045801\n",
            "4 0.6437659033078881\n",
            "5 0.6513994910941476\n",
            "6 0.6590330788804071\n"
          ]
        }
      ],
      "source": [
        "for min_samples_split in min_samples_split_list:\n",
        "  decision_tree = tree.DecisionTreeClassifier(min_samples_split=min_samples_split,random_state=0)\n",
        "  decision_tree = decision_tree.fit(X_train, y_train)\n",
        "  y_pred = decision_tree.predict(X_test)\n",
        "  print(min_samples_split,accuracy_score(y_test, y_pred))"
      ]
    },
    {
      "cell_type": "markdown",
      "metadata": {
        "id": "ozgMsbMEFZMR"
      },
      "source": [
        "#### 5.10 大きな効果は確認できませんでした。他のパラメータも試してみましょう。0～0.1まで、0.02刻みのリストを作成し、「min_impurity_decrease_list」と名前を付けて下さい。"
      ]
    },
    {
      "cell_type": "code",
      "execution_count": 99,
      "metadata": {
        "colab": {
          "base_uri": "https://localhost:8080/"
        },
        "id": "-Am3WTBEFZMS",
        "outputId": "68e85b48-3456-4b86-bae1-1b0eb21f478c"
      },
      "outputs": [
        {
          "output_type": "stream",
          "name": "stdout",
          "text": [
            "[0.   0.02 0.04 0.06 0.08]\n"
          ]
        }
      ],
      "source": [
        "min_impurity_decrease_list = np.arange(0,0.1,0.02)\n",
        "print(min_impurity_decrease_list)"
      ]
    },
    {
      "cell_type": "markdown",
      "metadata": {
        "id": "MJ9dV7NkFZMS"
      },
      "source": [
        "#### 5.11 for文を使用し、「5.10」で作成したリストの要素分、「min_impurity_decrease」を試して下さい。※「min_impurity_decrease」とは、分岐をどこで止めるかの判断指標です。大きな値にすると、過学習が抑制されます。"
      ]
    },
    {
      "cell_type": "code",
      "execution_count": 100,
      "metadata": {
        "colab": {
          "base_uri": "https://localhost:8080/"
        },
        "id": "uFonto9RFZMS",
        "outputId": "ef151dd6-062c-4c40-956d-4a700cab2368"
      },
      "outputs": [
        {
          "output_type": "stream",
          "name": "stdout",
          "text": [
            "0.0 0.6615776081424937\n",
            "0.02 0.6437659033078881\n",
            "0.04 0.628498727735369\n",
            "0.06 0.7455470737913485\n",
            "0.08 0.7455470737913485\n"
          ]
        }
      ],
      "source": [
        "for min_impurity_decrease in min_impurity_decrease_list:\n",
        "  decision_tree = tree.DecisionTreeClassifier(min_impurity_decrease=min_impurity_decrease,random_state=0)\n",
        "  decision_tree = decision_tree.fit(X_train, y_train)\n",
        "  y_pred = decision_tree.predict(X_test)\n",
        "  print(min_impurity_decrease,accuracy_score(y_test, y_pred))"
      ]
    },
    {
      "cell_type": "markdown",
      "metadata": {
        "id": "4t7VSq25FZMS"
      },
      "source": [
        "#### 5.12 正解率は「min_impurity_decrease」が0.06以上で向上していることが確認できますが、本当にこれで大丈夫でしょうか。混合行列を確認してきましょう。"
      ]
    },
    {
      "cell_type": "code",
      "execution_count": 101,
      "metadata": {
        "colab": {
          "base_uri": "https://localhost:8080/"
        },
        "id": "YbJuFA4xFZMT",
        "outputId": "8ed6b829-16dc-4059-cd8b-6b78ee0a16a5"
      },
      "outputs": [
        {
          "output_type": "execute_result",
          "data": {
            "text/plain": [
              "array([[293,   0],\n",
              "       [100,   0]])"
            ]
          },
          "metadata": {},
          "execution_count": 101
        }
      ],
      "source": [
        "from sklearn.metrics import confusion_matrix\n",
        "a = confusion_matrix(y_test, y_pred)\n",
        "a"
      ]
    },
    {
      "cell_type": "markdown",
      "metadata": {
        "id": "Xy6LbeWfFZMT"
      },
      "source": [
        "#### 5.13 全ての人に対し「0＝死亡」と予測してしまっているようです。正解率ではなく他の指標も確認してきましょう。適合率を算出して下さい。※適合率は生存と予測された人間のうち正解した人間の割合のことです。"
      ]
    },
    {
      "cell_type": "code",
      "execution_count": 103,
      "metadata": {
        "colab": {
          "base_uri": "https://localhost:8080/"
        },
        "id": "vjrLOMrkFZMT",
        "outputId": "03a1f9c6-fef6-4be9-e1c3-902d26563f71"
      },
      "outputs": [
        {
          "output_type": "stream",
          "name": "stdout",
          "text": [
            "0.0\n"
          ]
        }
      ],
      "source": [
        "from sklearn.metrics import precision_score\n",
        "print(precision_score(y_test, y_pred))"
      ]
    },
    {
      "cell_type": "markdown",
      "metadata": {
        "id": "4o5ZVyoiFZMT"
      },
      "source": [
        "#### 5.14 再現率を算出して下さい。※再現率は生存した人間のうち正解した人間の割合のことです。"
      ]
    },
    {
      "cell_type": "code",
      "execution_count": 104,
      "metadata": {
        "colab": {
          "base_uri": "https://localhost:8080/"
        },
        "id": "qPXFsZNHFZMU",
        "outputId": "4ac4cdad-eefe-468c-c748-e61e3eda6daf"
      },
      "outputs": [
        {
          "output_type": "stream",
          "name": "stdout",
          "text": [
            "0.0\n"
          ]
        }
      ],
      "source": [
        "from sklearn.metrics import recall_score\n",
        "print(recall_score(y_test, y_pred))"
      ]
    },
    {
      "cell_type": "markdown",
      "metadata": {
        "id": "BI3A0-FhFZMU"
      },
      "source": [
        "#### 5.15 F値を算出して下さい。※F値（F1-measure）は適合率と再現率の調和平均のことです。"
      ]
    },
    {
      "cell_type": "code",
      "execution_count": 105,
      "metadata": {
        "colab": {
          "base_uri": "https://localhost:8080/"
        },
        "id": "GYr4OqBxFZMU",
        "outputId": "31c62ebb-c908-44a4-d239-7892c766b070"
      },
      "outputs": [
        {
          "output_type": "stream",
          "name": "stdout",
          "text": [
            "0.0\n"
          ]
        }
      ],
      "source": [
        "from sklearn.metrics import f1_score\n",
        "print(f1_score(y_test, y_pred))"
      ]
    },
    {
      "cell_type": "markdown",
      "metadata": {
        "id": "WRAc1L_GFZMc"
      },
      "source": [
        "#### 5.16 生存していた人を評価する指標だと軒並み「0」になってしまうことが確認できました。正解率は分かりやすい指標ですが、今回のように「生存」と「死亡」の割合に差があるケースだと、間違った示唆を生み出してしまう可能性があります。それでは、「5.9」と「5.11」のリストの組み合わせ分、F値を算出して下さい。"
      ]
    },
    {
      "cell_type": "code",
      "execution_count": 106,
      "metadata": {
        "colab": {
          "base_uri": "https://localhost:8080/"
        },
        "id": "WQcXeBXAFZMc",
        "outputId": "79bbc32f-a4de-4189-e106-9d4463684eef"
      },
      "outputs": [
        {
          "output_type": "stream",
          "name": "stdout",
          "text": [
            "2 0.0 0.32487309644670054\n",
            "2 0.02 0.21348314606741575\n",
            "2 0.04 0.20652173913043478\n",
            "2 0.06 0.0\n",
            "2 0.08 0.0\n",
            "3 0.0 0.29787234042553196\n",
            "3 0.02 0.21348314606741575\n",
            "3 0.04 0.20652173913043478\n",
            "3 0.06 0.0\n",
            "3 0.08 0.0\n",
            "4 0.0 0.3137254901960784\n",
            "4 0.02 0.21348314606741575\n",
            "4 0.04 0.20652173913043478\n",
            "4 0.06 0.0\n",
            "4 0.08 0.0\n",
            "5 0.0 0.33170731707317075\n",
            "5 0.02 0.21348314606741575\n",
            "5 0.04 0.20652173913043478\n",
            "5 0.06 0.0\n",
            "5 0.08 0.0\n",
            "6 0.0 0.3163265306122449\n",
            "6 0.02 0.21348314606741575\n",
            "6 0.04 0.20652173913043478\n",
            "6 0.06 0.0\n",
            "6 0.08 0.0\n"
          ]
        }
      ],
      "source": [
        "for min_samples_split in min_samples_split_list:\n",
        "  for min_impurity_decrease in min_impurity_decrease_list:\n",
        "    decision_tree = tree.DecisionTreeClassifier(min_samples_split=min_samples_split, min_impurity_decrease=min_impurity_decrease,random_state=0)\n",
        "    decision_tree = decision_tree.fit(X_train, y_train)\n",
        "    y_pred = decision_tree.predict(X_test)\n",
        "    print(min_samples_split,min_impurity_decrease,f1_score(y_test, y_pred))"
      ]
    },
    {
      "cell_type": "markdown",
      "metadata": {
        "id": "JLzYUKEAFZMd"
      },
      "source": [
        "#### 5.17 「min_samples_split＝5」、「min_impurity_decrease=0.0」が一番F値が高いです。もう少しパラメータチューニングの幅を広げてみましょう。「min_samples_split＝5から10まで1刻み」、「min_impurity_decrease=0から0.02まで0.005刻み」のリストの組み合わせを試し、ベストのF値とその時に使用したパラメータを出力して下さい。"
      ]
    },
    {
      "cell_type": "code",
      "execution_count": 108,
      "metadata": {
        "colab": {
          "base_uri": "https://localhost:8080/"
        },
        "id": "J5houoyFFZMo",
        "outputId": "37a3acb4-57c7-44dc-c4aa-b4d6b7648d85"
      },
      "outputs": [
        {
          "output_type": "stream",
          "name": "stdout",
          "text": [
            "{'min_samples_split': 8, 'min_impurity_decrease': 0.0, 'best_score': 0.3333333333333333}\n"
          ]
        }
      ],
      "source": [
        "best_score = 0\n",
        "\n",
        "min_samples_split_list = np.arange(5,10,1)\n",
        "min_impurity_decrease_list = np.arange(0,0.025,0.005)\n",
        "\n",
        "for min_samples_split in min_samples_split_list:\n",
        "  for min_impurity_decrease in min_impurity_decrease_list:\n",
        "    decision_tree = tree.DecisionTreeClassifier(min_samples_split=min_samples_split, min_impurity_decrease=min_impurity_decrease,random_state=0)\n",
        "    decision_tree = decision_tree.fit(X_train, y_train)\n",
        "    y_pred = decision_tree.predict(X_test)\n",
        "    score = f1_score(y_test,y_pred)\n",
        "    if score > best_score:\n",
        "      best_score = score\n",
        "      best_parameters = {'min_samples_split':min_samples_split,'min_impurity_decrease':min_impurity_decrease,'best_score':best_score}\n",
        "print(best_parameters)"
      ]
    },
    {
      "cell_type": "markdown",
      "metadata": {
        "id": "AgmFd9rRFZMp"
      },
      "source": [
        "#### 5.18 パラメータをうまく設定することで精度が向上することが分かりました。様々なパラメータを試すことで、データに合ったモデルを作成することができます。次は、特徴量の観点でも考えてみましょう。「3.8」,「3.9」より「body」はあまり良い情報を持っていないことが確認できます。この変数を削除してみて下さい。"
      ]
    },
    {
      "cell_type": "code",
      "execution_count": 109,
      "metadata": {
        "colab": {
          "base_uri": "https://localhost:8080/"
        },
        "id": "M99IOodoFZMp",
        "outputId": "40dfaefe-89e1-4f82-c042-8763f8aaf9a7"
      },
      "outputs": [
        {
          "output_type": "stream",
          "name": "stdout",
          "text": [
            "X_train: Index(['age', 'sibsp', 'parch', 'fare'], dtype='object')\n",
            "X_test: Index(['age', 'sibsp', 'parch', 'fare'], dtype='object')\n"
          ]
        }
      ],
      "source": [
        "X_train.drop('body',axis=1,inplace=True)\n",
        "X_test.drop('body',axis=1,inplace=True)\n",
        "print(\"X_train:\",X_train.columns)\n",
        "print(\"X_test:\",X_test.columns)"
      ]
    },
    {
      "cell_type": "markdown",
      "metadata": {
        "id": "1ObhWhJaFZMp"
      },
      "source": [
        "#### 5.19 「5.17」の処理を回して、ベストスコアを確認して下さい。 "
      ]
    },
    {
      "cell_type": "code",
      "execution_count": 110,
      "metadata": {
        "colab": {
          "base_uri": "https://localhost:8080/"
        },
        "id": "U1ZIBJ1XFZMq",
        "outputId": "374ffd7b-84ce-440a-91ed-84f5bae6cc97"
      },
      "outputs": [
        {
          "output_type": "stream",
          "name": "stdout",
          "text": [
            "{'min_samples_split': 9, 'min_impurity_decrease': 0.0, 'best_score': 0.34449760765550236}\n"
          ]
        }
      ],
      "source": [
        "best_score = 0\n",
        "\n",
        "min_samples_split_list = np.arange(5,10,1)\n",
        "min_impurity_decrease_list = np.arange(0,0.025,0.005)\n",
        "\n",
        "for min_samples_split in min_samples_split_list:\n",
        "  for min_impurity_decrease in min_impurity_decrease_list:\n",
        "    decision_tree = tree.DecisionTreeClassifier(min_samples_split=min_samples_split, min_impurity_decrease=min_impurity_decrease,random_state=0)\n",
        "    decision_tree = decision_tree.fit(X_train, y_train)\n",
        "    y_pred = decision_tree.predict(X_test)\n",
        "    score = f1_score(y_test,y_pred)\n",
        "    if score > best_score:\n",
        "      best_score = score\n",
        "      best_parameters = {'min_samples_split':min_samples_split,'min_impurity_decrease':min_impurity_decrease,'best_score':best_score}\n",
        "print(best_parameters)"
      ]
    },
    {
      "cell_type": "markdown",
      "metadata": {
        "id": "84PMQOwuFZMq"
      },
      "source": [
        "#### 5.20 変数追加も考えてみましょう。カテゴリデータの「sex」に関して下記グラフを作成して下さい。"
      ]
    },
    {
      "cell_type": "code",
      "execution_count": 111,
      "metadata": {
        "colab": {
          "base_uri": "https://localhost:8080/",
          "height": 322
        },
        "id": "E7mgXWB5FZMq",
        "outputId": "b671a0f7-6b6f-4a8b-db9c-a014e7cf7852"
      },
      "outputs": [
        {
          "output_type": "execute_result",
          "data": {
            "text/plain": [
              "<matplotlib.axes._subplots.AxesSubplot at 0x7fed043840d0>"
            ]
          },
          "metadata": {},
          "execution_count": 111
        },
        {
          "output_type": "display_data",
          "data": {
            "text/plain": [
              "<Figure size 432x288 with 1 Axes>"
            ],
            "image/png": "[encoded data removed]"
          },
          "metadata": {
            "needs_background": "light"
          }
        }
      ],
      "source": [
        "c = pd.crosstab(titanic_data['sex'], titanic_data_except_object['survived'])\n",
        "c.plot.bar(stacked=True)"
      ]
    },
    {
      "cell_type": "markdown",
      "metadata": {
        "id": "aFgMQ9xRFZMq"
      },
      "source": [
        "#### 5.21 「sex」の変数は予測に寄与する可能性がありそうです。X_trainとX_testの変数にtitanic_dataからsexを追加して下さい。インデックスを変えないように注意して下さい。"
      ]
    },
    {
      "cell_type": "code",
      "execution_count": 112,
      "metadata": {
        "colab": {
          "base_uri": "https://localhost:8080/"
        },
        "id": "mPsA4uUKFZMr",
        "outputId": "ee526f98-be7f-44c4-9e71-0cced8d6f653"
      },
      "outputs": [
        {
          "output_type": "stream",
          "name": "stdout",
          "text": [
            "X_train: Index(['age', 'sibsp', 'parch', 'fare', 'sex'], dtype='object')\n",
            "X_test: Index(['age', 'sibsp', 'parch', 'fare', 'sex'], dtype='object')\n"
          ]
        }
      ],
      "source": [
        "X_train['sex'] = titanic_data['sex'][:914]\n",
        "X_test['sex'] = titanic_data['sex'][915:]\n",
        "print(\"X_train:\",X_train.columns)\n",
        "print(\"X_test:\",X_test.columns)"
      ]
    },
    {
      "cell_type": "markdown",
      "metadata": {
        "id": "Z5TKSUYlFZMr"
      },
      "source": [
        "#### 5.22 「sex」はカテゴリ変数なので、maleを0、femaleを1に変更し、数字に変わっていることを確認して下さい。"
      ]
    },
    {
      "cell_type": "code",
      "execution_count": 113,
      "metadata": {
        "colab": {
          "base_uri": "https://localhost:8080/"
        },
        "id": "Z90attYHFZMr",
        "outputId": "7722de2e-5dd2-4f84-ba53-40ea21d177c2"
      },
      "outputs": [
        {
          "output_type": "stream",
          "name": "stdout",
          "text": [
            "0    1\n",
            "1    0\n",
            "2    1\n",
            "3    0\n",
            "4    1\n",
            "Name: sex, dtype: int64\n",
            "915    0\n",
            "916    1\n",
            "917    0\n",
            "918    0\n",
            "919    0\n",
            "Name: sex, dtype: int64\n"
          ]
        }
      ],
      "source": [
        "X_train['sex'] = np.where(X_train['sex']=='female',1,0)\n",
        "X_test['sex'] = np.where(X_test['sex']=='female',1,0)\n",
        "print(X_train['sex'].head())\n",
        "print(X_test['sex'].head())"
      ]
    },
    {
      "cell_type": "markdown",
      "metadata": {
        "id": "bQoALI_WFZMs"
      },
      "source": [
        "#### 5.23「5.17」の処理を回して、ベストスコアを確認して下さい。 "
      ]
    },
    {
      "cell_type": "code",
      "execution_count": 114,
      "metadata": {
        "colab": {
          "base_uri": "https://localhost:8080/"
        },
        "id": "G8nx8qXgFZMs",
        "outputId": "706b1c47-7c7d-4228-f665-33048cc2a97d"
      },
      "outputs": [
        {
          "output_type": "stream",
          "name": "stdout",
          "text": [
            "{'min_samples_split': 5, 'min_impurity_decrease': 0.02, 'best_score': 0.5405405405405406}\n"
          ]
        }
      ],
      "source": [
        "best_score = 0\n",
        "\n",
        "min_samples_split_list = np.arange(5,10,1)\n",
        "min_impurity_decrease_list = np.arange(0,0.025,0.005)\n",
        "\n",
        "for min_samples_split in min_samples_split_list:\n",
        "  for min_impurity_decrease in min_impurity_decrease_list:\n",
        "    decision_tree = tree.DecisionTreeClassifier(min_samples_split=min_samples_split, min_impurity_decrease=min_impurity_decrease,random_state=0)\n",
        "    decision_tree = decision_tree.fit(X_train, y_train)\n",
        "    y_pred = decision_tree.predict(X_test)\n",
        "    score = f1_score(y_test,y_pred)\n",
        "    if score > best_score:\n",
        "      best_score = score\n",
        "      best_parameters = {'min_samples_split':min_samples_split,'min_impurity_decrease':min_impurity_decrease,'best_score':best_score}\n",
        "print(best_parameters)"
      ]
    },
    {
      "cell_type": "markdown",
      "metadata": {
        "id": "LgUpG8yoFZMs"
      },
      "source": [
        "### 6. ロジスティック回帰の方法について学習します。（8問）"
      ]
    },
    {
      "cell_type": "markdown",
      "metadata": {
        "id": "lfwtR-E3FZMs"
      },
      "source": [
        "#### モデルを作成するときはrandom_state=0を指定してください。"
      ]
    },
    {
      "cell_type": "markdown",
      "metadata": {
        "id": "4fEqLVcPFZMt"
      },
      "source": [
        "#### 6.1 ロジスティック回帰のライブラリをインストールして下さい。"
      ]
    },
    {
      "cell_type": "code",
      "execution_count": null,
      "metadata": {
        "id": "z0IuMNKpFZMw"
      },
      "outputs": [],
      "source": []
    },
    {
      "cell_type": "markdown",
      "metadata": {
        "id": "TNGngPbkFZMw"
      },
      "source": [
        "#### 6.2 ロジスティック回帰を読み込んで、「logistic_regression」と言う変数名に設定して下さい。その上で引数random_stateのみ「0」を指定し、下記のようなロジスティック回帰のパラメータ値を出力してください。※random_stateに数字を入れることで、結果を固定することができます。"
      ]
    },
    {
      "cell_type": "code",
      "execution_count": null,
      "metadata": {
        "id": "x4F2IL9FFZMw"
      },
      "outputs": [],
      "source": []
    },
    {
      "cell_type": "markdown",
      "metadata": {
        "id": "6oxwPd8IFZMx"
      },
      "source": [
        "#### 6.3 fit関数を使い、学習データを使用して、ロジスティック回帰の学習を行って下さい。"
      ]
    },
    {
      "cell_type": "code",
      "execution_count": null,
      "metadata": {
        "id": "YjxnSB1YFZMx"
      },
      "outputs": [],
      "source": []
    },
    {
      "cell_type": "markdown",
      "metadata": {
        "id": "AZ6gK7apFZMx"
      },
      "source": [
        "#### 6.4 作成したモデルを用いて、新規データ（X_test）に対する予測値を出力してください。※ここが「予測」と呼ばれる処理になります。"
      ]
    },
    {
      "cell_type": "code",
      "execution_count": null,
      "metadata": {
        "id": "OGejD0YvFZMy"
      },
      "outputs": [],
      "source": []
    },
    {
      "cell_type": "markdown",
      "metadata": {
        "id": "dlN0eRamFZMy"
      },
      "source": [
        "#### 6.5 混合行列を算出して下さい。"
      ]
    },
    {
      "cell_type": "code",
      "execution_count": null,
      "metadata": {
        "id": "2RaXUNLDFZM0"
      },
      "outputs": [],
      "source": []
    },
    {
      "cell_type": "markdown",
      "metadata": {
        "id": "Zy2GdJgYFZM1"
      },
      "source": [
        "#### 6.6 F値を算出して下さい。"
      ]
    },
    {
      "cell_type": "code",
      "execution_count": null,
      "metadata": {
        "id": "z7J0LN7dFZM1"
      },
      "outputs": [],
      "source": []
    },
    {
      "cell_type": "markdown",
      "metadata": {
        "id": "TUBAppMCFZM1"
      },
      "source": [
        "#### 6.7 ロジスティック回帰の主要パラメータである正則化項を変更してみましょう。下記の様なリストを作成し、C_listと言う変数名に格納して下さい。"
      ]
    },
    {
      "cell_type": "code",
      "execution_count": null,
      "metadata": {
        "id": "pg99hcMlFZM1"
      },
      "outputs": [],
      "source": []
    },
    {
      "cell_type": "markdown",
      "metadata": {
        "id": "O3U1Z2hkFZM2"
      },
      "source": [
        "#### 6.8 C_listの各値をパラメーター「C」に設定した際の精度を全て確認して下さい。"
      ]
    },
    {
      "cell_type": "code",
      "execution_count": null,
      "metadata": {
        "id": "UgEiOh65FZM2"
      },
      "outputs": [],
      "source": []
    },
    {
      "cell_type": "markdown",
      "metadata": {
        "id": "7PZzDuBJFZM6"
      },
      "source": [
        "### 7. ランダムフォレストの方法について学習します。（16問）"
      ]
    },
    {
      "cell_type": "markdown",
      "metadata": {
        "id": "vFL_PQIRFZM6"
      },
      "source": [
        "#### ランダムフォレストは機械学習のアルゴリズムのひとつで、決定木を統合させて汎化能力を向上させる、アンサンブル学習アルゴリズムです。分類（判別）・回帰（予測）どちらも使用することができます。アンサンブル学習は精度が高くなる傾向にあります。（モデルを作成するときはrandom_state=0を指定してください。）"
      ]
    },
    {
      "cell_type": "markdown",
      "metadata": {
        "id": "Frd9JKcaFZM7"
      },
      "source": [
        "#### 7.1 ランダムフォレスト（分類木）のライブラリをインストールして下さい。"
      ]
    },
    {
      "cell_type": "code",
      "execution_count": null,
      "metadata": {
        "id": "OA9IrEITFZM9"
      },
      "outputs": [],
      "source": []
    },
    {
      "cell_type": "markdown",
      "metadata": {
        "id": "w5TthCO7FZM9"
      },
      "source": [
        "#### 7.2 ランダムフォレストを読み込んで、「random_forest」と言う変数名に設定して下さい。その上で引数random_stateのみ「0」を指定し、下記のようなランダムフォレストのパラメータ値を出力してください。※random_stateに数字を入れることで、結果を固定することができます。"
      ]
    },
    {
      "cell_type": "code",
      "execution_count": null,
      "metadata": {
        "id": "MuE6n5uwFZM9"
      },
      "outputs": [],
      "source": []
    },
    {
      "cell_type": "markdown",
      "metadata": {
        "id": "hmGVDuvEFZM-"
      },
      "source": [
        "#### 7.3 fit関数を使い、学習データを使用して、ランダムフォレストの学習を行って下さい。"
      ]
    },
    {
      "cell_type": "code",
      "execution_count": null,
      "metadata": {
        "id": "pbcDgNaGFZM-"
      },
      "outputs": [],
      "source": []
    },
    {
      "cell_type": "markdown",
      "metadata": {
        "id": "m3WatKD-FZM-"
      },
      "source": [
        "#### 7.4 作成したモデルを用いて、新規データ（X_test）に対する予測値を出力してください。※ここが「予測」と呼ばれる処理になります。"
      ]
    },
    {
      "cell_type": "code",
      "execution_count": null,
      "metadata": {
        "id": "8kIAGmZrFZM-"
      },
      "outputs": [],
      "source": []
    },
    {
      "cell_type": "markdown",
      "metadata": {
        "id": "_c475CYtFZM_"
      },
      "source": [
        "#### 7.5 混合行列を算出して下さい。"
      ]
    },
    {
      "cell_type": "code",
      "execution_count": null,
      "metadata": {
        "id": "P-duAkgoFZM_"
      },
      "outputs": [],
      "source": []
    },
    {
      "cell_type": "markdown",
      "metadata": {
        "id": "RgCk2kmEFZM_"
      },
      "source": [
        "#### 7.6 F値を算出して下さい。"
      ]
    },
    {
      "cell_type": "code",
      "execution_count": null,
      "metadata": {
        "id": "bNx1y1g-FZM_"
      },
      "outputs": [],
      "source": []
    },
    {
      "cell_type": "markdown",
      "metadata": {
        "id": "7bpQTN8qFZM_"
      },
      "source": [
        "#### 7.7 デフォルト設定だとF値があまり良くないです。ランダムフォレストの主要パラメータであるn_estimotrs（木の数）、max_depth（木の深さ）、max_features（分岐に用いる説明変数の数を設定）を変更して見ましょう。下記のようなリストを作成して下さい。"
      ]
    },
    {
      "cell_type": "code",
      "execution_count": null,
      "metadata": {
        "id": "AQlZXgDxFZNA"
      },
      "outputs": [],
      "source": []
    },
    {
      "cell_type": "markdown",
      "metadata": {
        "id": "8cRFHJgbFZNE"
      },
      "source": [
        "#### 7.8 上記リストの組み合わせをパラメータとして設定し、ベストパラメータとその時のF値を算出して下さい。"
      ]
    },
    {
      "cell_type": "code",
      "execution_count": null,
      "metadata": {
        "id": "o_G3JNpJFZNF"
      },
      "outputs": [],
      "source": []
    },
    {
      "cell_type": "markdown",
      "metadata": {
        "id": "0O88_3T3FZNF"
      },
      "source": [
        "#### 7.9 「7.8」の結果の通りランダムフォレストの様な「アンサンブル学習」はパラメータを確りチューニングする必要がありますが、精度が高くなる傾向にあります。最後にベストパラメータ時の変数需要度を算出して下さい。"
      ]
    },
    {
      "cell_type": "code",
      "execution_count": null,
      "metadata": {
        "id": "O6CarxbMFZNF"
      },
      "outputs": [],
      "source": []
    },
    {
      "cell_type": "markdown",
      "metadata": {
        "id": "sWcdZzQbFZNF"
      },
      "source": [
        "#### 7.10 目的変数が量的変数の場合（回帰）を確認していきましょう。目的変数を「fare」に変更し、説明変数から削除して下さい。「age」,「sibsp」,「parch」,「sex」から「fare」を予測するモデルを作成することになります。"
      ]
    },
    {
      "cell_type": "code",
      "execution_count": null,
      "metadata": {
        "id": "UqRAmCYYFZNG"
      },
      "outputs": [],
      "source": []
    },
    {
      "cell_type": "markdown",
      "metadata": {
        "id": "zPzFB8MWFZNG"
      },
      "source": [
        "#### 7.11 ランダムフォレスト（回帰木）のライブラリをインストールして下さい。"
      ]
    },
    {
      "cell_type": "code",
      "execution_count": null,
      "metadata": {
        "id": "jA2Vk_kpFZNG"
      },
      "outputs": [],
      "source": []
    },
    {
      "cell_type": "markdown",
      "metadata": {
        "id": "IgdJfEVSFZNG"
      },
      "source": [
        "#### 7.12 ランダムフォレスト（回帰木）を読み込んで、「random_forest」と言う変数名に設定して下さい。その上で引数random_stateのみ「0」を指定し、下記のようなランダムフォレストのパラメータ値を出力してください。※random_stateに数字を入れることで、結果を固定することができます。"
      ]
    },
    {
      "cell_type": "code",
      "execution_count": null,
      "metadata": {
        "id": "x4lqaNfvFZNK"
      },
      "outputs": [],
      "source": []
    },
    {
      "cell_type": "markdown",
      "metadata": {
        "id": "2D9TcdqgFZNK"
      },
      "source": [
        "#### 7.13 fit関数を使い、学習データを使用して、ランダムフォレストの学習を行って下さい。"
      ]
    },
    {
      "cell_type": "code",
      "execution_count": null,
      "metadata": {
        "id": "yt8JJbDXFZNL"
      },
      "outputs": [],
      "source": []
    },
    {
      "cell_type": "markdown",
      "metadata": {
        "id": "G1RKlSM1FZNL"
      },
      "source": [
        "#### 7.14 作成したモデルを用いて、新規データ（X_test）に対する予測値を出力（上から50行）してください。※ここが「予測」と呼ばれる処理になります。"
      ]
    },
    {
      "cell_type": "code",
      "execution_count": null,
      "metadata": {
        "id": "s69x4rfEFZNM"
      },
      "outputs": [],
      "source": []
    },
    {
      "cell_type": "markdown",
      "metadata": {
        "id": "UTV_lheoFZNM"
      },
      "source": [
        "#### 7.15 実測値と予測値の平均絶対誤差を出力して下さい。"
      ]
    },
    {
      "cell_type": "code",
      "execution_count": null,
      "metadata": {
        "id": "qqIc3Y5PFZNN"
      },
      "outputs": [],
      "source": []
    },
    {
      "cell_type": "markdown",
      "metadata": {
        "id": "HGDaRlk5FZNN"
      },
      "source": [
        "#### 7.16 実測値と予測値の散布図を下記の形で出力して下さい。"
      ]
    },
    {
      "cell_type": "code",
      "execution_count": null,
      "metadata": {
        "id": "iMSnW-3lFZNN"
      },
      "outputs": [],
      "source": []
    },
    {
      "cell_type": "markdown",
      "metadata": {
        "id": "oPbjcLMUFZNN"
      },
      "source": [
        "### 8. K-meansの方法について学習します。（15問）"
      ]
    },
    {
      "cell_type": "markdown",
      "metadata": {
        "id": "sgtGPBv6FZNN"
      },
      "source": [
        "#### K-means法は、非階層型クラスタリングのアルゴリズムです。クラスタの平均を用い、与えられたクラスタ数k個に分類することから、K-means法と呼ばれています。（モデルを作成するときはrandom_state=0を指定してください。）"
      ]
    },
    {
      "cell_type": "markdown",
      "metadata": {
        "id": "s7LNLB5XFZNO"
      },
      "source": [
        "#### 8.1 Kmeansを読み込んで下さい。"
      ]
    },
    {
      "cell_type": "code",
      "execution_count": null,
      "metadata": {
        "id": "Nw90zFOhFZNO"
      },
      "outputs": [],
      "source": []
    },
    {
      "cell_type": "markdown",
      "metadata": {
        "id": "bxbjm7XaFZNO"
      },
      "source": [
        "#### 8.2 object型データを削除して、上から5行出力して下さい。"
      ]
    },
    {
      "cell_type": "code",
      "execution_count": null,
      "metadata": {
        "id": "lTUl9Mi7FZNO"
      },
      "outputs": [],
      "source": []
    },
    {
      "cell_type": "markdown",
      "metadata": {
        "id": "Bd4ytyP5FZNP"
      },
      "source": [
        "#### 8.3 全ての欠損値に0を埋めて下さい。欠損値がなくなったことを確認して下さい。"
      ]
    },
    {
      "cell_type": "code",
      "execution_count": null,
      "metadata": {
        "id": "JYmXYBVBFZNV"
      },
      "outputs": [],
      "source": []
    },
    {
      "cell_type": "markdown",
      "metadata": {
        "id": "TVF5Mu-NFZNW"
      },
      "source": [
        "#### 8.4 random_state=0を指定して、Kmeans法を実行して下さい。"
      ]
    },
    {
      "cell_type": "code",
      "execution_count": null,
      "metadata": {
        "id": "5oSPFKXFFZNW"
      },
      "outputs": [],
      "source": []
    },
    {
      "cell_type": "markdown",
      "metadata": {
        "id": "yFOFuQi4FZNX"
      },
      "source": [
        "#### 8.5 分類結果を上から50人確認して下さい。"
      ]
    },
    {
      "cell_type": "code",
      "execution_count": null,
      "metadata": {
        "id": "FSoXRAw6FZNX"
      },
      "outputs": [],
      "source": []
    },
    {
      "cell_type": "markdown",
      "metadata": {
        "id": "RxTaTYXnFZNX"
      },
      "source": [
        "#### 8.6 cluster列を作成し、クラスタリング結果を格納して下さい。"
      ]
    },
    {
      "cell_type": "code",
      "execution_count": null,
      "metadata": {
        "id": "fwm1v5AJFZNX"
      },
      "outputs": [],
      "source": []
    },
    {
      "cell_type": "markdown",
      "metadata": {
        "id": "JVet354NFZNY"
      },
      "source": [
        "#### 8.7 クラスタリング結果を確認していきましょう。それぞれのグループのサンプル数を出力して下さい。"
      ]
    },
    {
      "cell_type": "code",
      "execution_count": null,
      "metadata": {
        "id": "V-jb44HHFZNY"
      },
      "outputs": [],
      "source": []
    },
    {
      "cell_type": "markdown",
      "metadata": {
        "id": "M-VddPLsFZNY"
      },
      "source": [
        "#### 8.8 グループ毎に各カラムの値の平均値を出力して下さい。"
      ]
    },
    {
      "cell_type": "code",
      "execution_count": null,
      "metadata": {
        "id": "pM2GymlSFZNZ"
      },
      "outputs": [],
      "source": []
    },
    {
      "cell_type": "markdown",
      "metadata": {
        "id": "Izty5OLJFZNZ"
      },
      "source": [
        "#### 8.9 「body」,「fare」,「survived」が特に分類に寄与しているようです。2次元プロットで可視化してみましょう。主成分分析のライブラリを読み込んで下さい。"
      ]
    },
    {
      "cell_type": "code",
      "execution_count": null,
      "metadata": {
        "id": "nipTonBPFZNZ"
      },
      "outputs": [],
      "source": []
    },
    {
      "cell_type": "markdown",
      "metadata": {
        "id": "EuTtsvNWFZNZ"
      },
      "source": [
        "#### 8.10　PCAを読み込んで、「pca」と言う変数名に設定して下さい。その上で引数random_stateのみ「0」を指定し、下記のようなpcaのパラメータ値を出力してください。※random_stateに数字を入れることで、結果を固定することができます。"
      ]
    },
    {
      "cell_type": "code",
      "execution_count": null,
      "metadata": {
        "id": "hxAhomutFZNa"
      },
      "outputs": [],
      "source": []
    },
    {
      "cell_type": "markdown",
      "metadata": {
        "id": "cfVTr3LEFZNa"
      },
      "source": [
        "#### 8.11 主成分分析を実行して下さい。"
      ]
    },
    {
      "cell_type": "code",
      "execution_count": null,
      "metadata": {
        "id": "ivphUkF6FZNa"
      },
      "outputs": [],
      "source": []
    },
    {
      "cell_type": "markdown",
      "metadata": {
        "id": "ma-5WKm0FZNa"
      },
      "source": [
        "#### 8.12 次元削減を実行し、featureと言う変数に格納して下さい。"
      ]
    },
    {
      "cell_type": "code",
      "execution_count": null,
      "metadata": {
        "id": "T3tdofBiFZNb"
      },
      "outputs": [],
      "source": []
    },
    {
      "cell_type": "markdown",
      "metadata": {
        "id": "4VDLArYZFZNb"
      },
      "source": [
        "#### 8.13 1行目の主成分分析結果を出力して下さい。"
      ]
    },
    {
      "cell_type": "code",
      "execution_count": null,
      "metadata": {
        "id": "2ru7C2tCFZNb"
      },
      "outputs": [],
      "source": []
    },
    {
      "cell_type": "markdown",
      "metadata": {
        "id": "rG5hXWD5FZNb"
      },
      "source": [
        "#### 8.14 主成分分析を可視化します。各ラベルに{0:'#00FF00', 1:'#FF0000', 2:'#0000FF',  3:'#ffff00'}の色を付けて、リストを作成し、colorsと言う変数に格納して下さい。確認の為上から50行表示して下さい。"
      ]
    },
    {
      "cell_type": "code",
      "execution_count": null,
      "metadata": {
        "id": "MVCD4DcuFZNb"
      },
      "outputs": [],
      "source": []
    },
    {
      "cell_type": "markdown",
      "metadata": {
        "id": "F8A4JjdOFZNc"
      },
      "source": [
        "#### 8.15 第一主成分と第二主成分を下記のようにグループごとに色分けして出力して下さい。"
      ]
    },
    {
      "cell_type": "code",
      "execution_count": null,
      "metadata": {
        "id": "7CLOw4YPFZNc"
      },
      "outputs": [],
      "source": []
    }
  ],
  "metadata": {
    "anaconda-cloud": {},
    "kernelspec": {
      "display_name": "Python 3",
      "language": "python",
      "name": "python3"
    },
    "language_info": {
      "codemirror_mode": {
        "name": "ipython",
        "version": 3
      },
      "file_extension": ".py",
      "mimetype": "text/x-python",
      "name": "python",
      "nbconvert_exporter": "python",
      "pygments_lexer": "ipython3",
      "version": "3.7.6"
    },
    "latex_envs": {
      "LaTeX_envs_menu_present": true,
      "autocomplete": true,
      "bibliofile": "biblio.bib",
      "cite_by": "apalike",
      "current_citInitial": 1,
      "eqLabelWithNumbers": true,
      "eqNumInitial": 1,
      "hotkeys": {
        "equation": "Ctrl-E",
        "itemize": "Ctrl-I"
      },
      "labels_anchors": false,
      "latex_user_defs": false,
      "report_style_numbering": false,
      "user_envs_cfg": false
    },
    "toc": {
      "nav_menu": {
        "height": "336px",
        "width": "252px"
      },
      "number_sections": true,
      "sideBar": true,
      "skip_h1_title": false,
      "title_cell": "Table of Contents",
      "title_sidebar": "Contents",
      "toc_cell": false,
      "toc_position": {
        "height": "calc(100% - 180px)",
        "left": "10px",
        "top": "150px",
        "width": "254px"
      },
      "toc_section_display": "block",
      "toc_window_display": true
    },
    "varInspector": {
      "cols": {
        "lenName": 16,
        "lenType": 16,
        "lenVar": 40
      },
      "kernels_config": {
        "python": {
          "delete_cmd_postfix": "",
          "delete_cmd_prefix": "del ",
          "library": "var_list.py",
          "varRefreshCmd": "print(var_dic_list())"
        },
        "r": {
          "delete_cmd_postfix": ") ",
          "delete_cmd_prefix": "rm(",
          "library": "var_list.r",
          "varRefreshCmd": "cat(var_dic_list()) "
        }
      },
      "types_to_exclude": [
        "module",
        "function",
        "builtin_function_or_method",
        "instance",
        "_Feature"
      ],
      "window_display": false
    },
    "colab": {
      "provenance": [],
      "include_colab_link": true
    }
  },
  "nbformat": 4,
  "nbformat_minor": 0
}